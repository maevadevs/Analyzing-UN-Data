{
 "cells": [
  {
   "cell_type": "markdown",
   "metadata": {
    "toc": true
   },
   "source": [
    "<h1>Table of Contents<span class=\"tocSkip\"></span></h1>\n",
    "<div class=\"toc\"><ul class=\"toc-item\"><li><span><a href=\"#Read-and-cleanup-dataset\" data-toc-modified-id=\"Read-and-cleanup-dataset-1\"><span class=\"toc-item-num\">1&nbsp;&nbsp;</span>Read and cleanup dataset</a></span></li><li><span><a href=\"#Data-in-General-and-Formats\" data-toc-modified-id=\"Data-in-General-and-Formats-2\"><span class=\"toc-item-num\">2&nbsp;&nbsp;</span>Data in General and Formats</a></span></li><li><span><a href=\"#Categorical-Data-Summaries\" data-toc-modified-id=\"Categorical-Data-Summaries-3\"><span class=\"toc-item-num\">3&nbsp;&nbsp;</span>Categorical Data Summaries</a></span><ul class=\"toc-item\"><li><span><a href=\"#Country\" data-toc-modified-id=\"Country-3.1\"><span class=\"toc-item-num\">3.1&nbsp;&nbsp;</span><code>Country</code></a></span><ul class=\"toc-item\"><li><span><a href=\"#How-many-countries-are-represented-in-this-dataset?\" data-toc-modified-id=\"How-many-countries-are-represented-in-this-dataset?-3.1.1\"><span class=\"toc-item-num\">3.1.1&nbsp;&nbsp;</span>How many countries are represented in this dataset?</a></span></li><li><span><a href=\"#How-are-the-countries-represented/distributed-in-this-dataset?\" data-toc-modified-id=\"How-are-the-countries-represented/distributed-in-this-dataset?-3.1.2\"><span class=\"toc-item-num\">3.1.2&nbsp;&nbsp;</span>How are the countries represented/distributed in this dataset?</a></span></li></ul></li><li><span><a href=\"#Year\" data-toc-modified-id=\"Year-3.2\"><span class=\"toc-item-num\">3.2&nbsp;&nbsp;</span><code>Year</code></a></span><ul class=\"toc-item\"><li><span><a href=\"#How-many-years-are-represented-in-this-dataset?\" data-toc-modified-id=\"How-many-years-are-represented-in-this-dataset?-3.2.1\"><span class=\"toc-item-num\">3.2.1&nbsp;&nbsp;</span>How many years are represented in this dataset?</a></span></li><li><span><a href=\"#How-are-the-years-represented/distributed-in-this-dataset?\" data-toc-modified-id=\"How-are-the-years-represented/distributed-in-this-dataset?-3.2.2\"><span class=\"toc-item-num\">3.2.2&nbsp;&nbsp;</span>How are the years represented/distributed in this dataset?</a></span></li></ul></li><li><span><a href=\"#Gender\" data-toc-modified-id=\"Gender-3.3\"><span class=\"toc-item-num\">3.3&nbsp;&nbsp;</span><code>Gender</code></a></span><ul class=\"toc-item\"><li><span><a href=\"#How-are-Male-and-Female-distributed?\" data-toc-modified-id=\"How-are-Male-and-Female-distributed?-3.3.1\"><span class=\"toc-item-num\">3.3.1&nbsp;&nbsp;</span>How are Male and Female distributed?</a></span></li></ul></li></ul></li><li><span><a href=\"#Numerical-Data-Summaries\" data-toc-modified-id=\"Numerical-Data-Summaries-4\"><span class=\"toc-item-num\">4&nbsp;&nbsp;</span>Numerical Data Summaries</a></span><ul class=\"toc-item\"><li><span><a href=\"#Literacy_Pct\" data-toc-modified-id=\"Literacy_Pct-4.1\"><span class=\"toc-item-num\">4.1&nbsp;&nbsp;</span><code>Literacy_Pct</code></a></span><ul class=\"toc-item\"><li><span><a href=\"#Quick-Statistical-Summaries\" data-toc-modified-id=\"Quick-Statistical-Summaries-4.1.1\"><span class=\"toc-item-num\">4.1.1&nbsp;&nbsp;</span>Quick Statistical Summaries</a></span></li><li><span><a href=\"#Global-trend-of-literacy-over-the-years\" data-toc-modified-id=\"Global-trend-of-literacy-over-the-years-4.1.2\"><span class=\"toc-item-num\">4.1.2&nbsp;&nbsp;</span>Global trend of literacy over the years</a></span></li><li><span><a href=\"#Which-5-countries-had-the-highest-literacy-and-in-what-year-for-each-gender?\" data-toc-modified-id=\"Which-5-countries-had-the-highest-literacy-and-in-what-year-for-each-gender?-4.1.3\"><span class=\"toc-item-num\">4.1.3&nbsp;&nbsp;</span>Which 5 countries had the highest literacy and in what year for each gender?</a></span></li><li><span><a href=\"#Which-5-countries-had-the-lowest-literacy-and-in-what-year-for-each-gender?\" data-toc-modified-id=\"Which-5-countries-had-the-lowest-literacy-and-in-what-year-for-each-gender?-4.1.4\"><span class=\"toc-item-num\">4.1.4&nbsp;&nbsp;</span>Which 5 countries had the lowest literacy and in what year for each gender?</a></span></li><li><span><a href=\"#How-do-the-2-genders-compare-in-general?\" data-toc-modified-id=\"How-do-the-2-genders-compare-in-general?-4.1.5\"><span class=\"toc-item-num\">4.1.5&nbsp;&nbsp;</span>How do the 2 genders compare in general?</a></span></li><li><span><a href=\"#What-about-the-gender's-literacy-trend-over-the-years?\" data-toc-modified-id=\"What-about-the-gender's-literacy-trend-over-the-years?-4.1.6\"><span class=\"toc-item-num\">4.1.6&nbsp;&nbsp;</span>What about the gender's literacy trend over the years?</a></span></li><li><span><a href=\"#Closer-Look-at-Literacy_Pct-in-1998\" data-toc-modified-id=\"Closer-Look-at-Literacy_Pct-in-1998-4.1.7\"><span class=\"toc-item-num\">4.1.7&nbsp;&nbsp;</span>Closer Look at <code>Literacy_Pct</code> in 1998</a></span></li></ul></li><li><span><a href=\"#Literacy_Pct-in-2004\" data-toc-modified-id=\"Literacy_Pct-in-2004-4.2\"><span class=\"toc-item-num\">4.2&nbsp;&nbsp;</span><code>Literacy_Pct</code> in 2004</a></span><ul class=\"toc-item\"><li><span><a href=\"#Which-gender-typically-have-higher-literacy-in-2004?\" data-toc-modified-id=\"Which-gender-typically-have-higher-literacy-in-2004?-4.2.1\"><span class=\"toc-item-num\">4.2.1&nbsp;&nbsp;</span>Which gender typically have higher literacy in 2004?</a></span></li><li><span><a href=\"#Which-countries-where-the-top-and-bottom-in-literacy-in-2004?\" data-toc-modified-id=\"Which-countries-where-the-top-and-bottom-in-literacy-in-2004?-4.2.2\"><span class=\"toc-item-num\">4.2.2&nbsp;&nbsp;</span>Which countries where the top and bottom in literacy in 2004?</a></span></li><li><span><a href=\"#How-many-data-points-do-we-have-for-these-2-countries-for-all-the-years?\" data-toc-modified-id=\"How-many-data-points-do-we-have-for-these-2-countries-for-all-the-years?-4.2.3\"><span class=\"toc-item-num\">4.2.3&nbsp;&nbsp;</span>How many data points do we have for these 2 countries for all the years?</a></span></li></ul></li></ul></li><li><span><a href=\"#Joining-With-GDP-and-Internet\" data-toc-modified-id=\"Joining-With-GDP-and-Internet-5\"><span class=\"toc-item-num\">5&nbsp;&nbsp;</span>Joining With GDP and Internet</a></span><ul class=\"toc-item\"><li><span><a href=\"#Importing-and-cleaning-gdp_df\" data-toc-modified-id=\"Importing-and-cleaning-gdp_df-5.1\"><span class=\"toc-item-num\">5.1&nbsp;&nbsp;</span>Importing and cleaning <code>gdp_df</code></a></span></li><li><span><a href=\"#Importing-and-cleaning-internet_df\" data-toc-modified-id=\"Importing-and-cleaning-internet_df-5.2\"><span class=\"toc-item-num\">5.2&nbsp;&nbsp;</span>Importing and cleaning <code>internet_df</code></a></span></li><li><span><a href=\"#Merging-gdp_df-and-internet_df\" data-toc-modified-id=\"Merging-gdp_df-and-internet_df-5.3\"><span class=\"toc-item-num\">5.3&nbsp;&nbsp;</span>Merging <code>gdp_df</code> and <code>internet_df</code></a></span></li><li><span><a href=\"#Merging-gdp_and_internet_use-and-literacy_df\" data-toc-modified-id=\"Merging-gdp_and_internet_use-and-literacy_df-5.4\"><span class=\"toc-item-num\">5.4&nbsp;&nbsp;</span>Merging <code>gdp_and_internet_use</code> and <code>literacy_df</code></a></span></li><li><span><a href=\"#Internet_Users_Pct-vs-Literacy_Pct\" data-toc-modified-id=\"Internet_Users_Pct-vs-Literacy_Pct-5.5\"><span class=\"toc-item-num\">5.5&nbsp;&nbsp;</span><code>Internet_Users_Pct</code> vs <code>Literacy_Pct</code></a></span></li><li><span><a href=\"#Pearson's-Correlation-Coefficient:-Internet_Users_Pct-vs-Literacy_Pct\" data-toc-modified-id=\"Pearson's-Correlation-Coefficient:-Internet_Users_Pct-vs-Literacy_Pct-5.6\"><span class=\"toc-item-num\">5.6&nbsp;&nbsp;</span>Pearson's Correlation Coefficient: <code>Internet_Users_Pct</code> vs <code>Literacy_Pct</code></a></span></li><li><span><a href=\"#Literacy_Pct-vs-GDP_Per_Capita\" data-toc-modified-id=\"Literacy_Pct-vs-GDP_Per_Capita-5.7\"><span class=\"toc-item-num\">5.7&nbsp;&nbsp;</span><code>Literacy_Pct</code> vs <code>GDP_Per_Capita</code></a></span></li><li><span><a href=\"#Pearson's-Correlation-Coefficient:-Literacy_Pct-vs-GDP_Per_Capita\" data-toc-modified-id=\"Pearson's-Correlation-Coefficient:-Literacy_Pct-vs-GDP_Per_Capita-5.8\"><span class=\"toc-item-num\">5.8&nbsp;&nbsp;</span>Pearson's Correlation Coefficient: <code>Literacy_Pct</code> vs <code>GDP_Per_Capita</code></a></span></li></ul></li></ul></div>"
   ]
  },
  {
   "cell_type": "markdown",
   "metadata": {},
   "source": [
    "- Choose and download another data set from the UN data http://data.un.org/Explorer.aspx to merge with your data and explore.\n",
    "- Prepare a short (<5 minute) presentation of your findings.\n",
    "- Report any interesting correlations you find. \n",
    "- Include visualizations and consider adding interactivity with ipywidgets.\n",
    "- This presentation can be done either in a Jupyter Notebook or using another presentation software, such as PowerPoint. (Check out Jupyter Slides if you have time. This allows you to turn your jupyter notebook into a slideshow.)"
   ]
  },
  {
   "cell_type": "code",
   "execution_count": 1,
   "metadata": {},
   "outputs": [],
   "source": [
    "# Importing all required libraries\n",
    "import pandas as pd\n",
    "import numpy as np\n",
    "import matplotlib.pyplot as plt\n",
    "import seaborn as sns\n",
    "import scipy.stats as stats\n",
    "import statsmodels.api as sm"
   ]
  },
  {
   "cell_type": "code",
   "execution_count": 2,
   "metadata": {},
   "outputs": [],
   "source": [
    "# Jupyter magic so we don't have to call plt.show() every time\n",
    "%matplotlib inline\n",
    "\n",
    "# Have pandas to display up to 500 rows\n",
    "pd.set_option('display.max_columns', 500)\n",
    "\n",
    "# Set defaults theme for sns\n",
    "sns.set()"
   ]
  },
  {
   "cell_type": "markdown",
   "metadata": {},
   "source": [
    "## Read and cleanup dataset\n",
    "We are going to look at some education metrics per countries, specifically the level of literacy for young people (15-24 years olds) from United Nations Statistics Division. \n",
    "\n",
    "(Data source: http://data.un.org/Data.aspx?d=GenderStat&f=inID%3a50)\n",
    "\n",
    "**Note:** Some of the Literacy value in this dataset are obtained from Survey while others were obtained from Census"
   ]
  },
  {
   "cell_type": "code",
   "execution_count": 3,
   "metadata": {},
   "outputs": [
    {
     "data": {
      "text/html": [
       "<div>\n",
       "<style scoped>\n",
       "    .dataframe tbody tr th:only-of-type {\n",
       "        vertical-align: middle;\n",
       "    }\n",
       "\n",
       "    .dataframe tbody tr th {\n",
       "        vertical-align: top;\n",
       "    }\n",
       "\n",
       "    .dataframe thead th {\n",
       "        text-align: right;\n",
       "    }\n",
       "</style>\n",
       "<table border=\"1\" class=\"dataframe\">\n",
       "  <thead>\n",
       "    <tr style=\"text-align: right;\">\n",
       "      <th></th>\n",
       "      <th>Country or Area</th>\n",
       "      <th>Subgroup</th>\n",
       "      <th>Year</th>\n",
       "      <th>Source</th>\n",
       "      <th>Unit</th>\n",
       "      <th>Value</th>\n",
       "      <th>Value Footnotes</th>\n",
       "    </tr>\n",
       "  </thead>\n",
       "  <tbody>\n",
       "    <tr>\n",
       "      <th>0</th>\n",
       "      <td>Afghanistan</td>\n",
       "      <td>Female 15-24 yr</td>\n",
       "      <td>2000.0</td>\n",
       "      <td>UNSD_MDGInfo CDROM_Oct2007 (National figure)</td>\n",
       "      <td>Percent</td>\n",
       "      <td>18.4</td>\n",
       "      <td>1.0</td>\n",
       "    </tr>\n",
       "    <tr>\n",
       "      <th>1</th>\n",
       "      <td>Afghanistan</td>\n",
       "      <td>Male 15-24 yr</td>\n",
       "      <td>2000.0</td>\n",
       "      <td>UNSD_MDGInfo CDROM_Oct2007 (National figure)</td>\n",
       "      <td>Percent</td>\n",
       "      <td>50.8</td>\n",
       "      <td>1.0</td>\n",
       "    </tr>\n",
       "    <tr>\n",
       "      <th>2</th>\n",
       "      <td>Albania</td>\n",
       "      <td>Female 15-24 yr</td>\n",
       "      <td>2001.0</td>\n",
       "      <td>UNSD_MDGInfo CDROM_Oct2007 (National figure)</td>\n",
       "      <td>Percent</td>\n",
       "      <td>99.5</td>\n",
       "      <td>2.0</td>\n",
       "    </tr>\n",
       "    <tr>\n",
       "      <th>3</th>\n",
       "      <td>Albania</td>\n",
       "      <td>Male 15-24 yr</td>\n",
       "      <td>2001.0</td>\n",
       "      <td>UNSD_MDGInfo CDROM_Oct2007 (National figure)</td>\n",
       "      <td>Percent</td>\n",
       "      <td>99.4</td>\n",
       "      <td>2.0</td>\n",
       "    </tr>\n",
       "    <tr>\n",
       "      <th>4</th>\n",
       "      <td>Algeria</td>\n",
       "      <td>Female 15-24 yr</td>\n",
       "      <td>2002.0</td>\n",
       "      <td>UNSD_MDGInfo CDROM_Oct2007 (National figure)</td>\n",
       "      <td>Percent</td>\n",
       "      <td>86.1</td>\n",
       "      <td>1.0</td>\n",
       "    </tr>\n",
       "  </tbody>\n",
       "</table>\n",
       "</div>"
      ],
      "text/plain": [
       "  Country or Area         Subgroup    Year  \\\n",
       "0     Afghanistan  Female 15-24 yr  2000.0   \n",
       "1     Afghanistan    Male 15-24 yr  2000.0   \n",
       "2         Albania  Female 15-24 yr  2001.0   \n",
       "3         Albania    Male 15-24 yr  2001.0   \n",
       "4         Algeria  Female 15-24 yr  2002.0   \n",
       "\n",
       "                                         Source     Unit  Value  \\\n",
       "0  UNSD_MDGInfo CDROM_Oct2007 (National figure)  Percent   18.4   \n",
       "1  UNSD_MDGInfo CDROM_Oct2007 (National figure)  Percent   50.8   \n",
       "2  UNSD_MDGInfo CDROM_Oct2007 (National figure)  Percent   99.5   \n",
       "3  UNSD_MDGInfo CDROM_Oct2007 (National figure)  Percent   99.4   \n",
       "4  UNSD_MDGInfo CDROM_Oct2007 (National figure)  Percent   86.1   \n",
       "\n",
       "   Value Footnotes  \n",
       "0              1.0  \n",
       "1              1.0  \n",
       "2              2.0  \n",
       "3              2.0  \n",
       "4              1.0  "
      ]
     },
     "metadata": {},
     "output_type": "display_data"
    },
    {
     "data": {
      "text/html": [
       "<div>\n",
       "<style scoped>\n",
       "    .dataframe tbody tr th:only-of-type {\n",
       "        vertical-align: middle;\n",
       "    }\n",
       "\n",
       "    .dataframe tbody tr th {\n",
       "        vertical-align: top;\n",
       "    }\n",
       "\n",
       "    .dataframe thead th {\n",
       "        text-align: right;\n",
       "    }\n",
       "</style>\n",
       "<table border=\"1\" class=\"dataframe\">\n",
       "  <thead>\n",
       "    <tr style=\"text-align: right;\">\n",
       "      <th></th>\n",
       "      <th>Country or Area</th>\n",
       "      <th>Subgroup</th>\n",
       "      <th>Year</th>\n",
       "      <th>Source</th>\n",
       "      <th>Unit</th>\n",
       "      <th>Value</th>\n",
       "      <th>Value Footnotes</th>\n",
       "    </tr>\n",
       "  </thead>\n",
       "  <tbody>\n",
       "    <tr>\n",
       "      <th>430</th>\n",
       "      <td>fnSeqID</td>\n",
       "      <td>Footnote</td>\n",
       "      <td>NaN</td>\n",
       "      <td>NaN</td>\n",
       "      <td>NaN</td>\n",
       "      <td>NaN</td>\n",
       "      <td>NaN</td>\n",
       "    </tr>\n",
       "    <tr>\n",
       "      <th>431</th>\n",
       "      <td>1</td>\n",
       "      <td>Survey.</td>\n",
       "      <td>NaN</td>\n",
       "      <td>NaN</td>\n",
       "      <td>NaN</td>\n",
       "      <td>NaN</td>\n",
       "      <td>NaN</td>\n",
       "    </tr>\n",
       "    <tr>\n",
       "      <th>432</th>\n",
       "      <td>2</td>\n",
       "      <td>Census.</td>\n",
       "      <td>NaN</td>\n",
       "      <td>NaN</td>\n",
       "      <td>NaN</td>\n",
       "      <td>NaN</td>\n",
       "      <td>NaN</td>\n",
       "    </tr>\n",
       "    <tr>\n",
       "      <th>433</th>\n",
       "      <td>3</td>\n",
       "      <td>UNESCO Institute of Statistics estimates.</td>\n",
       "      <td>NaN</td>\n",
       "      <td>NaN</td>\n",
       "      <td>NaN</td>\n",
       "      <td>NaN</td>\n",
       "      <td>NaN</td>\n",
       "    </tr>\n",
       "    <tr>\n",
       "      <th>434</th>\n",
       "      <td>4</td>\n",
       "      <td>India: data exclude 3 sub-divisions.</td>\n",
       "      <td>NaN</td>\n",
       "      <td>NaN</td>\n",
       "      <td>NaN</td>\n",
       "      <td>NaN</td>\n",
       "      <td>NaN</td>\n",
       "    </tr>\n",
       "    <tr>\n",
       "      <th>435</th>\n",
       "      <td>5</td>\n",
       "      <td>Census. Serbia and Montenegro: data exclude Ko...</td>\n",
       "      <td>NaN</td>\n",
       "      <td>NaN</td>\n",
       "      <td>NaN</td>\n",
       "      <td>NaN</td>\n",
       "      <td>NaN</td>\n",
       "    </tr>\n",
       "    <tr>\n",
       "      <th>436</th>\n",
       "      <td>6</td>\n",
       "      <td>Sri Lanka: data represent 18 of 25 districts.</td>\n",
       "      <td>NaN</td>\n",
       "      <td>NaN</td>\n",
       "      <td>NaN</td>\n",
       "      <td>NaN</td>\n",
       "      <td>NaN</td>\n",
       "    </tr>\n",
       "    <tr>\n",
       "      <th>437</th>\n",
       "      <td>7</td>\n",
       "      <td>Sudan: Data are for North Sudan only.</td>\n",
       "      <td>NaN</td>\n",
       "      <td>NaN</td>\n",
       "      <td>NaN</td>\n",
       "      <td>NaN</td>\n",
       "      <td>NaN</td>\n",
       "    </tr>\n",
       "  </tbody>\n",
       "</table>\n",
       "</div>"
      ],
      "text/plain": [
       "    Country or Area                                           Subgroup  Year  \\\n",
       "430         fnSeqID                                           Footnote   NaN   \n",
       "431               1                                            Survey.   NaN   \n",
       "432               2                                            Census.   NaN   \n",
       "433               3          UNESCO Institute of Statistics estimates.   NaN   \n",
       "434               4               India: data exclude 3 sub-divisions.   NaN   \n",
       "435               5  Census. Serbia and Montenegro: data exclude Ko...   NaN   \n",
       "436               6      Sri Lanka: data represent 18 of 25 districts.   NaN   \n",
       "437               7              Sudan: Data are for North Sudan only.   NaN   \n",
       "\n",
       "    Source Unit  Value  Value Footnotes  \n",
       "430    NaN  NaN    NaN              NaN  \n",
       "431    NaN  NaN    NaN              NaN  \n",
       "432    NaN  NaN    NaN              NaN  \n",
       "433    NaN  NaN    NaN              NaN  \n",
       "434    NaN  NaN    NaN              NaN  \n",
       "435    NaN  NaN    NaN              NaN  \n",
       "436    NaN  NaN    NaN              NaN  \n",
       "437    NaN  NaN    NaN              NaN  "
      ]
     },
     "metadata": {},
     "output_type": "display_data"
    }
   ],
   "source": [
    "# Pandas Dataframe\n",
    "literacy_df = pd.read_csv(\"../data/literacy_rate_15_24_year_olds.csv\")\n",
    "\n",
    "# Quick glance\n",
    "display(literacy_df.head())\n",
    "display(literacy_df.tail(8))"
   ]
  },
  {
   "cell_type": "markdown",
   "metadata": {},
   "source": [
    "It looks like we have some cleanups to do"
   ]
  },
  {
   "cell_type": "code",
   "execution_count": 4,
   "metadata": {},
   "outputs": [],
   "source": [
    "# Re-importing and skipping the last bad rows\n",
    "# literacy_df = literacy_df[:-8]\n",
    "literacy_df = pd.read_csv(\"../data/literacy_rate_15_24_year_olds.csv\", skipfooter=8, engine=\"python\")\n",
    "\n",
    "# Drop the Source, Unit, and Value Footnotes\n",
    "literacy_df = literacy_df.drop(['Source', 'Unit', 'Value Footnotes'], axis = 1)\n",
    "\n",
    "# Renaming the columns\n",
    "literacy_df.columns = [\"Country\", \"Subgroup\", \"Year\", \"Literacy_Pct\"]\n",
    "\n",
    "# Splitting Subgroup\n",
    "literacy_df[['Gender','Year_Group', 'Yr']] = literacy_df.Subgroup.str.split(expand=True) \n",
    "\n",
    "# Drop Yr and Subgroup\n",
    "literacy_df = literacy_df.drop(['Year_Group', 'Yr', 'Subgroup'], axis = 1)"
   ]
  },
  {
   "cell_type": "markdown",
   "metadata": {},
   "source": [
    "Let's see the end result"
   ]
  },
  {
   "cell_type": "code",
   "execution_count": 5,
   "metadata": {},
   "outputs": [
    {
     "data": {
      "text/html": [
       "<div>\n",
       "<style scoped>\n",
       "    .dataframe tbody tr th:only-of-type {\n",
       "        vertical-align: middle;\n",
       "    }\n",
       "\n",
       "    .dataframe tbody tr th {\n",
       "        vertical-align: top;\n",
       "    }\n",
       "\n",
       "    .dataframe thead th {\n",
       "        text-align: right;\n",
       "    }\n",
       "</style>\n",
       "<table border=\"1\" class=\"dataframe\">\n",
       "  <thead>\n",
       "    <tr style=\"text-align: right;\">\n",
       "      <th></th>\n",
       "      <th>Country</th>\n",
       "      <th>Year</th>\n",
       "      <th>Literacy_Pct</th>\n",
       "      <th>Gender</th>\n",
       "    </tr>\n",
       "  </thead>\n",
       "  <tbody>\n",
       "    <tr>\n",
       "      <th>0</th>\n",
       "      <td>Afghanistan</td>\n",
       "      <td>2000</td>\n",
       "      <td>18.4</td>\n",
       "      <td>Female</td>\n",
       "    </tr>\n",
       "    <tr>\n",
       "      <th>1</th>\n",
       "      <td>Afghanistan</td>\n",
       "      <td>2000</td>\n",
       "      <td>50.8</td>\n",
       "      <td>Male</td>\n",
       "    </tr>\n",
       "    <tr>\n",
       "      <th>2</th>\n",
       "      <td>Albania</td>\n",
       "      <td>2001</td>\n",
       "      <td>99.5</td>\n",
       "      <td>Female</td>\n",
       "    </tr>\n",
       "    <tr>\n",
       "      <th>3</th>\n",
       "      <td>Albania</td>\n",
       "      <td>2001</td>\n",
       "      <td>99.4</td>\n",
       "      <td>Male</td>\n",
       "    </tr>\n",
       "    <tr>\n",
       "      <th>4</th>\n",
       "      <td>Algeria</td>\n",
       "      <td>2002</td>\n",
       "      <td>86.1</td>\n",
       "      <td>Female</td>\n",
       "    </tr>\n",
       "  </tbody>\n",
       "</table>\n",
       "</div>"
      ],
      "text/plain": [
       "       Country  Year  Literacy_Pct  Gender\n",
       "0  Afghanistan  2000          18.4  Female\n",
       "1  Afghanistan  2000          50.8    Male\n",
       "2      Albania  2001          99.5  Female\n",
       "3      Albania  2001          99.4    Male\n",
       "4      Algeria  2002          86.1  Female"
      ]
     },
     "metadata": {},
     "output_type": "display_data"
    },
    {
     "data": {
      "text/html": [
       "<div>\n",
       "<style scoped>\n",
       "    .dataframe tbody tr th:only-of-type {\n",
       "        vertical-align: middle;\n",
       "    }\n",
       "\n",
       "    .dataframe tbody tr th {\n",
       "        vertical-align: top;\n",
       "    }\n",
       "\n",
       "    .dataframe thead th {\n",
       "        text-align: right;\n",
       "    }\n",
       "</style>\n",
       "<table border=\"1\" class=\"dataframe\">\n",
       "  <thead>\n",
       "    <tr style=\"text-align: right;\">\n",
       "      <th></th>\n",
       "      <th>Country</th>\n",
       "      <th>Year</th>\n",
       "      <th>Literacy_Pct</th>\n",
       "      <th>Gender</th>\n",
       "    </tr>\n",
       "  </thead>\n",
       "  <tbody>\n",
       "    <tr>\n",
       "      <th>425</th>\n",
       "      <td>Zambia</td>\n",
       "      <td>1990</td>\n",
       "      <td>67.3</td>\n",
       "      <td>Male</td>\n",
       "    </tr>\n",
       "    <tr>\n",
       "      <th>426</th>\n",
       "      <td>Zimbabwe</td>\n",
       "      <td>2004</td>\n",
       "      <td>97.9</td>\n",
       "      <td>Female</td>\n",
       "    </tr>\n",
       "    <tr>\n",
       "      <th>427</th>\n",
       "      <td>Zimbabwe</td>\n",
       "      <td>1992</td>\n",
       "      <td>94.4</td>\n",
       "      <td>Female</td>\n",
       "    </tr>\n",
       "    <tr>\n",
       "      <th>428</th>\n",
       "      <td>Zimbabwe</td>\n",
       "      <td>2004</td>\n",
       "      <td>97.5</td>\n",
       "      <td>Male</td>\n",
       "    </tr>\n",
       "    <tr>\n",
       "      <th>429</th>\n",
       "      <td>Zimbabwe</td>\n",
       "      <td>1992</td>\n",
       "      <td>96.5</td>\n",
       "      <td>Male</td>\n",
       "    </tr>\n",
       "  </tbody>\n",
       "</table>\n",
       "</div>"
      ],
      "text/plain": [
       "      Country  Year  Literacy_Pct  Gender\n",
       "425    Zambia  1990          67.3    Male\n",
       "426  Zimbabwe  2004          97.9  Female\n",
       "427  Zimbabwe  1992          94.4  Female\n",
       "428  Zimbabwe  2004          97.5    Male\n",
       "429  Zimbabwe  1992          96.5    Male"
      ]
     },
     "metadata": {},
     "output_type": "display_data"
    }
   ],
   "source": [
    "display(literacy_df.head())\n",
    "display(literacy_df.tail())"
   ]
  },
  {
   "cell_type": "markdown",
   "metadata": {},
   "source": [
    "## Data in General and Formats"
   ]
  },
  {
   "cell_type": "code",
   "execution_count": 6,
   "metadata": {},
   "outputs": [
    {
     "name": "stdout",
     "output_type": "stream",
     "text": [
      "<class 'pandas.core.frame.DataFrame'>\n",
      "RangeIndex: 430 entries, 0 to 429\n",
      "Data columns (total 4 columns):\n",
      " #   Column        Non-Null Count  Dtype  \n",
      "---  ------        --------------  -----  \n",
      " 0   Country       430 non-null    object \n",
      " 1   Year          430 non-null    int64  \n",
      " 2   Literacy_Pct  430 non-null    float64\n",
      " 3   Gender        430 non-null    object \n",
      "dtypes: float64(1), int64(1), object(2)\n",
      "memory usage: 13.6+ KB\n"
     ]
    }
   ],
   "source": [
    "literacy_df.info()"
   ]
  },
  {
   "cell_type": "markdown",
   "metadata": {},
   "source": [
    "- It looks like all of our column types are formatted correctly\n",
    "- We do not have any null values to address\n",
    "- We have 430 rows x 4 columns"
   ]
  },
  {
   "cell_type": "markdown",
   "metadata": {},
   "source": [
    "## Categorical Data Summaries"
   ]
  },
  {
   "cell_type": "markdown",
   "metadata": {},
   "source": [
    "### `Country`"
   ]
  },
  {
   "cell_type": "markdown",
   "metadata": {},
   "source": [
    "#### How many countries are represented in this dataset?"
   ]
  },
  {
   "cell_type": "code",
   "execution_count": 7,
   "metadata": {},
   "outputs": [
    {
     "data": {
      "text/plain": [
       "135"
      ]
     },
     "execution_count": 7,
     "metadata": {},
     "output_type": "execute_result"
    }
   ],
   "source": [
    "len(set(literacy_df.Country))"
   ]
  },
  {
   "cell_type": "markdown",
   "metadata": {},
   "source": [
    "#### How are the countries represented/distributed in this dataset?"
   ]
  },
  {
   "cell_type": "code",
   "execution_count": 8,
   "metadata": {},
   "outputs": [
    {
     "data": {
      "text/plain": [
       "Mexico          10\n",
       "Burkina Faso     8\n",
       "Colombia         8\n",
       "Iran             6\n",
       "Philippines      6\n",
       "                ..\n",
       "Ukraine          2\n",
       "Italy            2\n",
       "Sri Lanka        2\n",
       "Costa Rica       2\n",
       "Estonia          2\n",
       "Name: Country, Length: 135, dtype: int64"
      ]
     },
     "execution_count": 8,
     "metadata": {},
     "output_type": "execute_result"
    }
   ],
   "source": [
    "literacy_df.Country.value_counts().sort_values(ascending=False)"
   ]
  },
  {
   "cell_type": "markdown",
   "metadata": {},
   "source": [
    "We can see that the countries are not evenly represented in this dataset"
   ]
  },
  {
   "cell_type": "markdown",
   "metadata": {},
   "source": [
    "### `Year`"
   ]
  },
  {
   "cell_type": "markdown",
   "metadata": {},
   "source": [
    "#### How many years are represented in this dataset?"
   ]
  },
  {
   "cell_type": "code",
   "execution_count": 9,
   "metadata": {
    "scrolled": true
   },
   "outputs": [
    {
     "data": {
      "text/plain": [
       "16"
      ]
     },
     "execution_count": 9,
     "metadata": {},
     "output_type": "execute_result"
    }
   ],
   "source": [
    "len(set(literacy_df.Year))"
   ]
  },
  {
   "cell_type": "markdown",
   "metadata": {},
   "source": [
    "#### How are the years represented/distributed in this dataset?"
   ]
  },
  {
   "cell_type": "code",
   "execution_count": 10,
   "metadata": {},
   "outputs": [
    {
     "data": {
      "text/plain": [
       "1990    30\n",
       "1991    42\n",
       "1992    20\n",
       "1993     6\n",
       "1994    24\n",
       "1995    10\n",
       "1996    16\n",
       "1997     6\n",
       "1998     8\n",
       "1999    12\n",
       "2000    70\n",
       "2001    54\n",
       "2002    32\n",
       "2003    10\n",
       "2004    70\n",
       "2005    20\n",
       "Name: Year, dtype: int64"
      ]
     },
     "execution_count": 10,
     "metadata": {},
     "output_type": "execute_result"
    }
   ],
   "source": [
    "literacy_df.Year.value_counts().sort_index()"
   ]
  },
  {
   "cell_type": "code",
   "execution_count": 11,
   "metadata": {},
   "outputs": [
    {
     "data": {
      "image/png": "[encoded data removed]",
      "text/plain": [
       "<Figure size 432x288 with 1 Axes>"
      ]
     },
     "metadata": {},
     "output_type": "display_data"
    }
   ],
   "source": [
    "chart = sns.countplot(literacy_df.Year, order = literacy_df.Year.value_counts().index)\n",
    "\n",
    "chart.set_xticklabels(chart.get_xticklabels(), rotation=45)\n",
    "plt.title(\"Count of Each Year Represented in Dataset\")\n",
    "plt.ylabel(\"Count of Year\")\n",
    "plt.xlabel(\"Year\");"
   ]
  },
  {
   "cell_type": "markdown",
   "metadata": {},
   "source": [
    "This shows us that the data are not evenly distributed across the years. Some years are more represented than others. It appears that the most represented years in this dataset are 2000, 2001, and 2004."
   ]
  },
  {
   "cell_type": "markdown",
   "metadata": {},
   "source": [
    "### `Gender`"
   ]
  },
  {
   "cell_type": "markdown",
   "metadata": {},
   "source": [
    "#### How are Male and Female distributed?\n",
    "Is there any over-representation or under-representation of one gender vs the other?"
   ]
  },
  {
   "cell_type": "code",
   "execution_count": 12,
   "metadata": {},
   "outputs": [
    {
     "data": {
      "text/html": [
       "<div>\n",
       "<style scoped>\n",
       "    .dataframe tbody tr th:only-of-type {\n",
       "        vertical-align: middle;\n",
       "    }\n",
       "\n",
       "    .dataframe tbody tr th {\n",
       "        vertical-align: top;\n",
       "    }\n",
       "\n",
       "    .dataframe thead th {\n",
       "        text-align: right;\n",
       "    }\n",
       "</style>\n",
       "<table border=\"1\" class=\"dataframe\">\n",
       "  <thead>\n",
       "    <tr style=\"text-align: right;\">\n",
       "      <th></th>\n",
       "      <th>Country</th>\n",
       "      <th>Year</th>\n",
       "      <th>Literacy_Pct</th>\n",
       "    </tr>\n",
       "    <tr>\n",
       "      <th>Gender</th>\n",
       "      <th></th>\n",
       "      <th></th>\n",
       "      <th></th>\n",
       "    </tr>\n",
       "  </thead>\n",
       "  <tbody>\n",
       "    <tr>\n",
       "      <th>Female</th>\n",
       "      <td>215</td>\n",
       "      <td>215</td>\n",
       "      <td>215</td>\n",
       "    </tr>\n",
       "    <tr>\n",
       "      <th>Male</th>\n",
       "      <td>215</td>\n",
       "      <td>215</td>\n",
       "      <td>215</td>\n",
       "    </tr>\n",
       "  </tbody>\n",
       "</table>\n",
       "</div>"
      ],
      "text/plain": [
       "        Country  Year  Literacy_Pct\n",
       "Gender                             \n",
       "Female      215   215           215\n",
       "Male        215   215           215"
      ]
     },
     "execution_count": 12,
     "metadata": {},
     "output_type": "execute_result"
    }
   ],
   "source": [
    "literacy_df.groupby('Gender').count()"
   ]
  },
  {
   "cell_type": "code",
   "execution_count": 13,
   "metadata": {},
   "outputs": [
    {
     "data": {
      "text/plain": [
       "Text(0, 0.5, 'Count')"
      ]
     },
     "execution_count": 13,
     "metadata": {},
     "output_type": "execute_result"
    },
    {
     "data": {
      "image/png": "[encoded data removed]",
      "text/plain": [
       "<Figure size 432x288 with 1 Axes>"
      ]
     },
     "metadata": {},
     "output_type": "display_data"
    }
   ],
   "source": [
    "literacy_df.groupby('Gender').count().plot(kind='bar', rot=0)\n",
    "\n",
    "plt.title('Distribution of data by Gender')\n",
    "plt.xlabel('Gender')\n",
    "plt.ylabel('Count')"
   ]
  },
  {
   "cell_type": "markdown",
   "metadata": {},
   "source": [
    "It appears that male and female are evenly distributed throughout the dataset"
   ]
  },
  {
   "cell_type": "markdown",
   "metadata": {},
   "source": [
    "## Numerical Data Summaries"
   ]
  },
  {
   "cell_type": "markdown",
   "metadata": {},
   "source": [
    "### `Literacy_Pct` "
   ]
  },
  {
   "cell_type": "markdown",
   "metadata": {},
   "source": [
    "#### Quick Statistical Summaries"
   ]
  },
  {
   "cell_type": "code",
   "execution_count": 14,
   "metadata": {},
   "outputs": [
    {
     "data": {
      "text/html": [
       "<div>\n",
       "<style scoped>\n",
       "    .dataframe tbody tr th:only-of-type {\n",
       "        vertical-align: middle;\n",
       "    }\n",
       "\n",
       "    .dataframe tbody tr th {\n",
       "        vertical-align: top;\n",
       "    }\n",
       "\n",
       "    .dataframe thead th {\n",
       "        text-align: right;\n",
       "    }\n",
       "</style>\n",
       "<table border=\"1\" class=\"dataframe\">\n",
       "  <thead>\n",
       "    <tr style=\"text-align: right;\">\n",
       "      <th></th>\n",
       "      <th>Literacy_Pct</th>\n",
       "    </tr>\n",
       "  </thead>\n",
       "  <tbody>\n",
       "    <tr>\n",
       "      <th>count</th>\n",
       "      <td>430.000000</td>\n",
       "    </tr>\n",
       "    <tr>\n",
       "      <th>mean</th>\n",
       "      <td>86.354186</td>\n",
       "    </tr>\n",
       "    <tr>\n",
       "      <th>std</th>\n",
       "      <td>19.334197</td>\n",
       "    </tr>\n",
       "    <tr>\n",
       "      <th>min</th>\n",
       "      <td>14.000000</td>\n",
       "    </tr>\n",
       "    <tr>\n",
       "      <th>25%</th>\n",
       "      <td>81.225000</td>\n",
       "    </tr>\n",
       "    <tr>\n",
       "      <th>50%</th>\n",
       "      <td>95.700000</td>\n",
       "    </tr>\n",
       "    <tr>\n",
       "      <th>75%</th>\n",
       "      <td>98.500000</td>\n",
       "    </tr>\n",
       "    <tr>\n",
       "      <th>max</th>\n",
       "      <td>100.000000</td>\n",
       "    </tr>\n",
       "  </tbody>\n",
       "</table>\n",
       "</div>"
      ],
      "text/plain": [
       "       Literacy_Pct\n",
       "count    430.000000\n",
       "mean      86.354186\n",
       "std       19.334197\n",
       "min       14.000000\n",
       "25%       81.225000\n",
       "50%       95.700000\n",
       "75%       98.500000\n",
       "max      100.000000"
      ]
     },
     "execution_count": 14,
     "metadata": {},
     "output_type": "execute_result"
    }
   ],
   "source": [
    "literacy_df.Literacy_Pct.describe().to_frame()"
   ]
  },
  {
   "cell_type": "code",
   "execution_count": 15,
   "metadata": {},
   "outputs": [
    {
     "data": {
      "image/png": "[encoded data removed]",
      "text/plain": [
       "<Figure size 432x288 with 1 Axes>"
      ]
     },
     "metadata": {},
     "output_type": "display_data"
    }
   ],
   "source": [
    "# Histogram\n",
    "sns.distplot(literacy_df.Literacy_Pct, bins=int(np.sqrt(len(literacy_df))))\n",
    "\n",
    "plt.title('Literacy Percentage Overall Disttribution')\n",
    "plt.xlabel('Literacy Percentage')\n",
    "plt.ylabel('Proportion');"
   ]
  },
  {
   "cell_type": "code",
   "execution_count": 16,
   "metadata": {},
   "outputs": [
    {
     "data": {
      "image/png": "[encoded data removed]",
      "text/plain": [
       "<Figure size 432x288 with 1 Axes>"
      ]
     },
     "metadata": {},
     "output_type": "display_data"
    }
   ],
   "source": [
    "sns.boxplot(literacy_df.Literacy_Pct, color='orange')\n",
    "\n",
    "plt.title('Literacy Percentage Overall Disttribution')\n",
    "plt.xlabel('Literacy Percentage');"
   ]
  },
  {
   "cell_type": "markdown",
   "metadata": {},
   "source": [
    "It appears that over all the years, most countries are really close to maxing a good literacy rate. However, there are some countries that are falling behind, even some that have less than 20% of literacy rate during some years. \n",
    "\n",
    "In all, this is a highly left-skewed distribution. As most countries achieve a great literacy rate overall, the median and the mean are in the 80/90 range overall.\n",
    "\n",
    "However, this is a general overview throughout all the years. We should drill down to the years to get a better understanding of the situation."
   ]
  },
  {
   "cell_type": "markdown",
   "metadata": {},
   "source": [
    "#### Global trend of literacy over the years"
   ]
  },
  {
   "cell_type": "code",
   "execution_count": 17,
   "metadata": {},
   "outputs": [
    {
     "data": {
      "image/png": "[encoded data removed]",
      "text/plain": [
       "<Figure size 1080x576 with 1 Axes>"
      ]
     },
     "metadata": {},
     "output_type": "display_data"
    }
   ],
   "source": [
    " # Global trend in literacy rate over the years\n",
    "plt.figure(figsize=(15,8))\n",
    "\n",
    "sns.boxplot(data=literacy_df, x=\"Year\", y=\"Literacy_Pct\")\n",
    "\n",
    "plt.title(\"Global Literacy Rate Over Time\")\n",
    "plt.xlabel(\"Year\")\n",
    "plt.ylabel(\"Literacy Percentage\")\n",
    "plt.xticks(rotation=45);"
   ]
  },
  {
   "cell_type": "markdown",
   "metadata": {},
   "source": [
    "As we can see, the general global trend of literacy is mostly in the high range. The lowest that it was on average was in 1998. However, the median has always been quite high in general. Again, we have a lot of outliers that do not necessarily follow this average though. Some countries have had literacy rates below 20% in some years."
   ]
  },
  {
   "cell_type": "markdown",
   "metadata": {},
   "source": [
    "Let's split the data frame between male and female to get a better understanding"
   ]
  },
  {
   "cell_type": "code",
   "execution_count": 18,
   "metadata": {},
   "outputs": [
    {
     "data": {
      "text/html": [
       "<div>\n",
       "<style scoped>\n",
       "    .dataframe tbody tr th:only-of-type {\n",
       "        vertical-align: middle;\n",
       "    }\n",
       "\n",
       "    .dataframe tbody tr th {\n",
       "        vertical-align: top;\n",
       "    }\n",
       "\n",
       "    .dataframe thead th {\n",
       "        text-align: right;\n",
       "    }\n",
       "</style>\n",
       "<table border=\"1\" class=\"dataframe\">\n",
       "  <thead>\n",
       "    <tr style=\"text-align: right;\">\n",
       "      <th></th>\n",
       "      <th>Country</th>\n",
       "      <th>Year</th>\n",
       "      <th>Literacy_Pct</th>\n",
       "      <th>Gender</th>\n",
       "    </tr>\n",
       "  </thead>\n",
       "  <tbody>\n",
       "    <tr>\n",
       "      <th>1</th>\n",
       "      <td>Afghanistan</td>\n",
       "      <td>2000</td>\n",
       "      <td>50.8</td>\n",
       "      <td>Male</td>\n",
       "    </tr>\n",
       "    <tr>\n",
       "      <th>3</th>\n",
       "      <td>Albania</td>\n",
       "      <td>2001</td>\n",
       "      <td>99.4</td>\n",
       "      <td>Male</td>\n",
       "    </tr>\n",
       "    <tr>\n",
       "      <th>5</th>\n",
       "      <td>Algeria</td>\n",
       "      <td>2002</td>\n",
       "      <td>94.1</td>\n",
       "      <td>Male</td>\n",
       "    </tr>\n",
       "    <tr>\n",
       "      <th>7</th>\n",
       "      <td>Angola</td>\n",
       "      <td>2001</td>\n",
       "      <td>83.7</td>\n",
       "      <td>Male</td>\n",
       "    </tr>\n",
       "    <tr>\n",
       "      <th>10</th>\n",
       "      <td>Argentina</td>\n",
       "      <td>2001</td>\n",
       "      <td>98.7</td>\n",
       "      <td>Male</td>\n",
       "    </tr>\n",
       "  </tbody>\n",
       "</table>\n",
       "</div>"
      ],
      "text/plain": [
       "        Country  Year  Literacy_Pct Gender\n",
       "1   Afghanistan  2000          50.8   Male\n",
       "3       Albania  2001          99.4   Male\n",
       "5       Algeria  2002          94.1   Male\n",
       "7        Angola  2001          83.7   Male\n",
       "10    Argentina  2001          98.7   Male"
      ]
     },
     "metadata": {},
     "output_type": "display_data"
    },
    {
     "data": {
      "text/html": [
       "<div>\n",
       "<style scoped>\n",
       "    .dataframe tbody tr th:only-of-type {\n",
       "        vertical-align: middle;\n",
       "    }\n",
       "\n",
       "    .dataframe tbody tr th {\n",
       "        vertical-align: top;\n",
       "    }\n",
       "\n",
       "    .dataframe thead th {\n",
       "        text-align: right;\n",
       "    }\n",
       "</style>\n",
       "<table border=\"1\" class=\"dataframe\">\n",
       "  <thead>\n",
       "    <tr style=\"text-align: right;\">\n",
       "      <th></th>\n",
       "      <th>Country</th>\n",
       "      <th>Year</th>\n",
       "      <th>Literacy_Pct</th>\n",
       "      <th>Gender</th>\n",
       "    </tr>\n",
       "  </thead>\n",
       "  <tbody>\n",
       "    <tr>\n",
       "      <th>0</th>\n",
       "      <td>Afghanistan</td>\n",
       "      <td>2000</td>\n",
       "      <td>18.4</td>\n",
       "      <td>Female</td>\n",
       "    </tr>\n",
       "    <tr>\n",
       "      <th>2</th>\n",
       "      <td>Albania</td>\n",
       "      <td>2001</td>\n",
       "      <td>99.5</td>\n",
       "      <td>Female</td>\n",
       "    </tr>\n",
       "    <tr>\n",
       "      <th>4</th>\n",
       "      <td>Algeria</td>\n",
       "      <td>2002</td>\n",
       "      <td>86.1</td>\n",
       "      <td>Female</td>\n",
       "    </tr>\n",
       "    <tr>\n",
       "      <th>6</th>\n",
       "      <td>Angola</td>\n",
       "      <td>2001</td>\n",
       "      <td>63.2</td>\n",
       "      <td>Female</td>\n",
       "    </tr>\n",
       "    <tr>\n",
       "      <th>8</th>\n",
       "      <td>Argentina</td>\n",
       "      <td>2001</td>\n",
       "      <td>99.1</td>\n",
       "      <td>Female</td>\n",
       "    </tr>\n",
       "  </tbody>\n",
       "</table>\n",
       "</div>"
      ],
      "text/plain": [
       "       Country  Year  Literacy_Pct  Gender\n",
       "0  Afghanistan  2000          18.4  Female\n",
       "2      Albania  2001          99.5  Female\n",
       "4      Algeria  2002          86.1  Female\n",
       "6       Angola  2001          63.2  Female\n",
       "8    Argentina  2001          99.1  Female"
      ]
     },
     "metadata": {},
     "output_type": "display_data"
    }
   ],
   "source": [
    "literacy_df_male = literacy_df[literacy_df['Gender'] == 'Male']\n",
    "literacy_df_female = literacy_df[literacy_df['Gender'] == 'Female']\n",
    "\n",
    "display(literacy_df_male.head())\n",
    "display(literacy_df_female.head())"
   ]
  },
  {
   "cell_type": "markdown",
   "metadata": {},
   "source": [
    "#### Which 5 countries had the highest literacy and in what year for each gender?"
   ]
  },
  {
   "cell_type": "code",
   "execution_count": 19,
   "metadata": {},
   "outputs": [
    {
     "data": {
      "text/html": [
       "<div>\n",
       "<style scoped>\n",
       "    .dataframe tbody tr th:only-of-type {\n",
       "        vertical-align: middle;\n",
       "    }\n",
       "\n",
       "    .dataframe tbody tr th {\n",
       "        vertical-align: top;\n",
       "    }\n",
       "\n",
       "    .dataframe thead th {\n",
       "        text-align: right;\n",
       "    }\n",
       "</style>\n",
       "<table border=\"1\" class=\"dataframe\">\n",
       "  <thead>\n",
       "    <tr style=\"text-align: right;\">\n",
       "      <th></th>\n",
       "      <th>Country</th>\n",
       "      <th>Year</th>\n",
       "      <th>Literacy_Pct</th>\n",
       "      <th>Gender</th>\n",
       "    </tr>\n",
       "  </thead>\n",
       "  <tbody>\n",
       "    <tr>\n",
       "      <th>109</th>\n",
       "      <td>Cuba</td>\n",
       "      <td>2002</td>\n",
       "      <td>100.0</td>\n",
       "      <td>Male</td>\n",
       "    </tr>\n",
       "    <tr>\n",
       "      <th>171</th>\n",
       "      <td>Israel</td>\n",
       "      <td>2004</td>\n",
       "      <td>100.0</td>\n",
       "      <td>Male</td>\n",
       "    </tr>\n",
       "    <tr>\n",
       "      <th>17</th>\n",
       "      <td>Azerbaijan</td>\n",
       "      <td>1999</td>\n",
       "      <td>99.9</td>\n",
       "      <td>Male</td>\n",
       "    </tr>\n",
       "    <tr>\n",
       "      <th>13</th>\n",
       "      <td>Armenia</td>\n",
       "      <td>2001</td>\n",
       "      <td>99.8</td>\n",
       "      <td>Male</td>\n",
       "    </tr>\n",
       "    <tr>\n",
       "      <th>27</th>\n",
       "      <td>Belarus</td>\n",
       "      <td>1999</td>\n",
       "      <td>99.8</td>\n",
       "      <td>Male</td>\n",
       "    </tr>\n",
       "  </tbody>\n",
       "</table>\n",
       "</div>"
      ],
      "text/plain": [
       "        Country  Year  Literacy_Pct Gender\n",
       "109        Cuba  2002         100.0   Male\n",
       "171      Israel  2004         100.0   Male\n",
       "17   Azerbaijan  1999          99.9   Male\n",
       "13      Armenia  2001          99.8   Male\n",
       "27      Belarus  1999          99.8   Male"
      ]
     },
     "metadata": {},
     "output_type": "display_data"
    },
    {
     "data": {
      "text/html": [
       "<div>\n",
       "<style scoped>\n",
       "    .dataframe tbody tr th:only-of-type {\n",
       "        vertical-align: middle;\n",
       "    }\n",
       "\n",
       "    .dataframe tbody tr th {\n",
       "        vertical-align: top;\n",
       "    }\n",
       "\n",
       "    .dataframe thead th {\n",
       "        text-align: right;\n",
       "    }\n",
       "</style>\n",
       "<table border=\"1\" class=\"dataframe\">\n",
       "  <thead>\n",
       "    <tr style=\"text-align: right;\">\n",
       "      <th></th>\n",
       "      <th>Country</th>\n",
       "      <th>Year</th>\n",
       "      <th>Literacy_Pct</th>\n",
       "      <th>Gender</th>\n",
       "    </tr>\n",
       "  </thead>\n",
       "  <tbody>\n",
       "    <tr>\n",
       "      <th>108</th>\n",
       "      <td>Cuba</td>\n",
       "      <td>2002</td>\n",
       "      <td>100.0</td>\n",
       "      <td>Female</td>\n",
       "    </tr>\n",
       "    <tr>\n",
       "      <th>12</th>\n",
       "      <td>Armenia</td>\n",
       "      <td>2001</td>\n",
       "      <td>99.9</td>\n",
       "      <td>Female</td>\n",
       "    </tr>\n",
       "    <tr>\n",
       "      <th>16</th>\n",
       "      <td>Azerbaijan</td>\n",
       "      <td>1999</td>\n",
       "      <td>99.9</td>\n",
       "      <td>Female</td>\n",
       "    </tr>\n",
       "    <tr>\n",
       "      <th>176</th>\n",
       "      <td>Kazakhstan</td>\n",
       "      <td>1999</td>\n",
       "      <td>99.9</td>\n",
       "      <td>Female</td>\n",
       "    </tr>\n",
       "    <tr>\n",
       "      <th>358</th>\n",
       "      <td>Slovenia</td>\n",
       "      <td>2004</td>\n",
       "      <td>99.9</td>\n",
       "      <td>Female</td>\n",
       "    </tr>\n",
       "  </tbody>\n",
       "</table>\n",
       "</div>"
      ],
      "text/plain": [
       "        Country  Year  Literacy_Pct  Gender\n",
       "108        Cuba  2002         100.0  Female\n",
       "12      Armenia  2001          99.9  Female\n",
       "16   Azerbaijan  1999          99.9  Female\n",
       "176  Kazakhstan  1999          99.9  Female\n",
       "358    Slovenia  2004          99.9  Female"
      ]
     },
     "metadata": {},
     "output_type": "display_data"
    }
   ],
   "source": [
    "display(literacy_df_male.nlargest(5, 'Literacy_Pct'))\n",
    "display(literacy_df_female.nlargest(5, 'Literacy_Pct'))"
   ]
  },
  {
   "cell_type": "markdown",
   "metadata": {},
   "source": [
    "We can see that there are some slight discrepancy in the results between Male and Female"
   ]
  },
  {
   "cell_type": "markdown",
   "metadata": {},
   "source": [
    "#### Which 5 countries had the lowest literacy and in what year for each gender?"
   ]
  },
  {
   "cell_type": "code",
   "execution_count": 20,
   "metadata": {},
   "outputs": [
    {
     "data": {
      "text/html": [
       "<div>\n",
       "<style scoped>\n",
       "    .dataframe tbody tr th:only-of-type {\n",
       "        vertical-align: middle;\n",
       "    }\n",
       "\n",
       "    .dataframe tbody tr th {\n",
       "        vertical-align: top;\n",
       "    }\n",
       "\n",
       "    .dataframe thead th {\n",
       "        text-align: right;\n",
       "    }\n",
       "</style>\n",
       "<table border=\"1\" class=\"dataframe\">\n",
       "  <thead>\n",
       "    <tr style=\"text-align: right;\">\n",
       "      <th></th>\n",
       "      <th>Country</th>\n",
       "      <th>Year</th>\n",
       "      <th>Literacy_Pct</th>\n",
       "      <th>Gender</th>\n",
       "    </tr>\n",
       "  </thead>\n",
       "  <tbody>\n",
       "    <tr>\n",
       "      <th>60</th>\n",
       "      <td>Burkina Faso</td>\n",
       "      <td>1996</td>\n",
       "      <td>25.5</td>\n",
       "      <td>Male</td>\n",
       "    </tr>\n",
       "    <tr>\n",
       "      <th>61</th>\n",
       "      <td>Burkina Faso</td>\n",
       "      <td>1991</td>\n",
       "      <td>26.8</td>\n",
       "      <td>Male</td>\n",
       "    </tr>\n",
       "    <tr>\n",
       "      <th>134</th>\n",
       "      <td>Ethiopia</td>\n",
       "      <td>2004</td>\n",
       "      <td>28.6</td>\n",
       "      <td>Male</td>\n",
       "    </tr>\n",
       "    <tr>\n",
       "      <th>223</th>\n",
       "      <td>Mali</td>\n",
       "      <td>1998</td>\n",
       "      <td>32.3</td>\n",
       "      <td>Male</td>\n",
       "    </tr>\n",
       "    <tr>\n",
       "      <th>59</th>\n",
       "      <td>Burkina Faso</td>\n",
       "      <td>2003</td>\n",
       "      <td>38.4</td>\n",
       "      <td>Male</td>\n",
       "    </tr>\n",
       "  </tbody>\n",
       "</table>\n",
       "</div>"
      ],
      "text/plain": [
       "          Country  Year  Literacy_Pct Gender\n",
       "60   Burkina Faso  1996          25.5   Male\n",
       "61   Burkina Faso  1991          26.8   Male\n",
       "134      Ethiopia  2004          28.6   Male\n",
       "223          Mali  1998          32.3   Male\n",
       "59   Burkina Faso  2003          38.4   Male"
      ]
     },
     "metadata": {},
     "output_type": "display_data"
    },
    {
     "data": {
      "text/html": [
       "<div>\n",
       "<style scoped>\n",
       "    .dataframe tbody tr th:only-of-type {\n",
       "        vertical-align: middle;\n",
       "    }\n",
       "\n",
       "    .dataframe tbody tr th {\n",
       "        vertical-align: top;\n",
       "    }\n",
       "\n",
       "    .dataframe thead th {\n",
       "        text-align: right;\n",
       "    }\n",
       "</style>\n",
       "<table border=\"1\" class=\"dataframe\">\n",
       "  <thead>\n",
       "    <tr style=\"text-align: right;\">\n",
       "      <th></th>\n",
       "      <th>Country</th>\n",
       "      <th>Year</th>\n",
       "      <th>Literacy_Pct</th>\n",
       "      <th>Gender</th>\n",
       "    </tr>\n",
       "  </thead>\n",
       "  <tbody>\n",
       "    <tr>\n",
       "      <th>56</th>\n",
       "      <td>Burkina Faso</td>\n",
       "      <td>1996</td>\n",
       "      <td>14.0</td>\n",
       "      <td>Female</td>\n",
       "    </tr>\n",
       "    <tr>\n",
       "      <th>57</th>\n",
       "      <td>Burkina Faso</td>\n",
       "      <td>1991</td>\n",
       "      <td>14.2</td>\n",
       "      <td>Female</td>\n",
       "    </tr>\n",
       "    <tr>\n",
       "      <th>222</th>\n",
       "      <td>Mali</td>\n",
       "      <td>1998</td>\n",
       "      <td>16.9</td>\n",
       "      <td>Female</td>\n",
       "    </tr>\n",
       "    <tr>\n",
       "      <th>0</th>\n",
       "      <td>Afghanistan</td>\n",
       "      <td>2000</td>\n",
       "      <td>18.4</td>\n",
       "      <td>Female</td>\n",
       "    </tr>\n",
       "    <tr>\n",
       "      <th>76</th>\n",
       "      <td>Chad</td>\n",
       "      <td>2000</td>\n",
       "      <td>23.2</td>\n",
       "      <td>Female</td>\n",
       "    </tr>\n",
       "  </tbody>\n",
       "</table>\n",
       "</div>"
      ],
      "text/plain": [
       "          Country  Year  Literacy_Pct  Gender\n",
       "56   Burkina Faso  1996          14.0  Female\n",
       "57   Burkina Faso  1991          14.2  Female\n",
       "222          Mali  1998          16.9  Female\n",
       "0     Afghanistan  2000          18.4  Female\n",
       "76           Chad  2000          23.2  Female"
      ]
     },
     "metadata": {},
     "output_type": "display_data"
    }
   ],
   "source": [
    "display(literacy_df_male.nsmallest(5, 'Literacy_Pct'))\n",
    "display(literacy_df_female.nsmallest(5, 'Literacy_Pct'))"
   ]
  },
  {
   "cell_type": "markdown",
   "metadata": {},
   "source": [
    "#### How do the 2 genders compare in general?"
   ]
  },
  {
   "cell_type": "code",
   "execution_count": 21,
   "metadata": {},
   "outputs": [
    {
     "data": {
      "image/png": "[encoded data removed]",
      "text/plain": [
       "<Figure size 432x288 with 1 Axes>"
      ]
     },
     "metadata": {},
     "output_type": "display_data"
    }
   ],
   "source": [
    "sns.boxplot(data = literacy_df, x = 'Gender', y = 'Literacy_Pct', palette={'Male': 'lightskyblue', 'Female': 'tomato'})\n",
    "\n",
    "plt.title(\"General Literacy Rate by Gender\")\n",
    "plt.xlabel(\"Gender\")\n",
    "plt.ylabel(\"Literacy Percentage\");"
   ]
  },
  {
   "cell_type": "markdown",
   "metadata": {},
   "source": [
    "#### What about the gender's literacy trend over the years?"
   ]
  },
  {
   "cell_type": "code",
   "execution_count": 22,
   "metadata": {},
   "outputs": [],
   "source": [
    "# Using Pivot Table\n",
    "def generate_pivot_table_mean_median(dataframe):\n",
    "    return dataframe.pivot_table(\n",
    "        values = 'Literacy_Pct', # values to aggregate\n",
    "        index = 'Gender', # column to group_by and display in pivot_table rows\n",
    "        columns = ['Year'], # column to group_by and display in pivot_table columns\n",
    "        aggfunc = [np.mean, np.median] # The aggregate functions to calculate\n",
    "    )"
   ]
  },
  {
   "cell_type": "code",
   "execution_count": 23,
   "metadata": {},
   "outputs": [
    {
     "data": {
      "text/html": [
       "<div>\n",
       "<style scoped>\n",
       "    .dataframe tbody tr th:only-of-type {\n",
       "        vertical-align: middle;\n",
       "    }\n",
       "\n",
       "    .dataframe tbody tr th {\n",
       "        vertical-align: top;\n",
       "    }\n",
       "\n",
       "    .dataframe thead tr th {\n",
       "        text-align: left;\n",
       "    }\n",
       "\n",
       "    .dataframe thead tr:last-of-type th {\n",
       "        text-align: right;\n",
       "    }\n",
       "</style>\n",
       "<table border=\"1\" class=\"dataframe\">\n",
       "  <thead>\n",
       "    <tr>\n",
       "      <th></th>\n",
       "      <th colspan=\"16\" halign=\"left\">mean</th>\n",
       "      <th colspan=\"16\" halign=\"left\">median</th>\n",
       "    </tr>\n",
       "    <tr>\n",
       "      <th>Year</th>\n",
       "      <th>1990</th>\n",
       "      <th>1991</th>\n",
       "      <th>1992</th>\n",
       "      <th>1993</th>\n",
       "      <th>1994</th>\n",
       "      <th>1995</th>\n",
       "      <th>1996</th>\n",
       "      <th>1997</th>\n",
       "      <th>1998</th>\n",
       "      <th>1999</th>\n",
       "      <th>2000</th>\n",
       "      <th>2001</th>\n",
       "      <th>2002</th>\n",
       "      <th>2003</th>\n",
       "      <th>2004</th>\n",
       "      <th>2005</th>\n",
       "      <th>1990</th>\n",
       "      <th>1991</th>\n",
       "      <th>1992</th>\n",
       "      <th>1993</th>\n",
       "      <th>1994</th>\n",
       "      <th>1995</th>\n",
       "      <th>1996</th>\n",
       "      <th>1997</th>\n",
       "      <th>1998</th>\n",
       "      <th>1999</th>\n",
       "      <th>2000</th>\n",
       "      <th>2001</th>\n",
       "      <th>2002</th>\n",
       "      <th>2003</th>\n",
       "      <th>2004</th>\n",
       "      <th>2005</th>\n",
       "    </tr>\n",
       "    <tr>\n",
       "      <th>Gender</th>\n",
       "      <th></th>\n",
       "      <th></th>\n",
       "      <th></th>\n",
       "      <th></th>\n",
       "      <th></th>\n",
       "      <th></th>\n",
       "      <th></th>\n",
       "      <th></th>\n",
       "      <th></th>\n",
       "      <th></th>\n",
       "      <th></th>\n",
       "      <th></th>\n",
       "      <th></th>\n",
       "      <th></th>\n",
       "      <th></th>\n",
       "      <th></th>\n",
       "      <th></th>\n",
       "      <th></th>\n",
       "      <th></th>\n",
       "      <th></th>\n",
       "      <th></th>\n",
       "      <th></th>\n",
       "      <th></th>\n",
       "      <th></th>\n",
       "      <th></th>\n",
       "      <th></th>\n",
       "      <th></th>\n",
       "      <th></th>\n",
       "      <th></th>\n",
       "      <th></th>\n",
       "      <th></th>\n",
       "      <th></th>\n",
       "    </tr>\n",
       "  </thead>\n",
       "  <tbody>\n",
       "    <tr>\n",
       "      <th>Female</th>\n",
       "      <td>89.126667</td>\n",
       "      <td>79.814286</td>\n",
       "      <td>86.88</td>\n",
       "      <td>92.566667</td>\n",
       "      <td>74.716667</td>\n",
       "      <td>90.04</td>\n",
       "      <td>82.6125</td>\n",
       "      <td>76.533333</td>\n",
       "      <td>50.450</td>\n",
       "      <td>93.183333</td>\n",
       "      <td>82.125714</td>\n",
       "      <td>90.162963</td>\n",
       "      <td>85.3625</td>\n",
       "      <td>69.48</td>\n",
       "      <td>89.025714</td>\n",
       "      <td>76.95</td>\n",
       "      <td>94.8</td>\n",
       "      <td>92.3</td>\n",
       "      <td>94.9</td>\n",
       "      <td>92.1</td>\n",
       "      <td>91.05</td>\n",
       "      <td>97.8</td>\n",
       "      <td>95.95</td>\n",
       "      <td>95.8</td>\n",
       "      <td>56.90</td>\n",
       "      <td>99.75</td>\n",
       "      <td>94.9</td>\n",
       "      <td>97.3</td>\n",
       "      <td>96.35</td>\n",
       "      <td>95.6</td>\n",
       "      <td>96.1</td>\n",
       "      <td>96.50</td>\n",
       "    </tr>\n",
       "    <tr>\n",
       "      <th>Male</th>\n",
       "      <td>91.086667</td>\n",
       "      <td>85.719048</td>\n",
       "      <td>91.63</td>\n",
       "      <td>93.600000</td>\n",
       "      <td>84.775000</td>\n",
       "      <td>92.96</td>\n",
       "      <td>85.8000</td>\n",
       "      <td>83.500000</td>\n",
       "      <td>65.825</td>\n",
       "      <td>94.333333</td>\n",
       "      <td>87.400000</td>\n",
       "      <td>92.929630</td>\n",
       "      <td>90.2000</td>\n",
       "      <td>76.14</td>\n",
       "      <td>91.831429</td>\n",
       "      <td>84.93</td>\n",
       "      <td>96.0</td>\n",
       "      <td>95.8</td>\n",
       "      <td>96.4</td>\n",
       "      <td>94.4</td>\n",
       "      <td>95.65</td>\n",
       "      <td>94.4</td>\n",
       "      <td>95.95</td>\n",
       "      <td>94.1</td>\n",
       "      <td>74.45</td>\n",
       "      <td>99.75</td>\n",
       "      <td>94.5</td>\n",
       "      <td>96.8</td>\n",
       "      <td>97.40</td>\n",
       "      <td>92.1</td>\n",
       "      <td>97.3</td>\n",
       "      <td>97.55</td>\n",
       "    </tr>\n",
       "  </tbody>\n",
       "</table>\n",
       "</div>"
      ],
      "text/plain": [
       "             mean                                                          \\\n",
       "Year         1990       1991   1992       1993       1994   1995     1996   \n",
       "Gender                                                                      \n",
       "Female  89.126667  79.814286  86.88  92.566667  74.716667  90.04  82.6125   \n",
       "Male    91.086667  85.719048  91.63  93.600000  84.775000  92.96  85.8000   \n",
       "\n",
       "                                                                            \\\n",
       "Year         1997    1998       1999       2000       2001     2002   2003   \n",
       "Gender                                                                       \n",
       "Female  76.533333  50.450  93.183333  82.125714  90.162963  85.3625  69.48   \n",
       "Male    83.500000  65.825  94.333333  87.400000  92.929630  90.2000  76.14   \n",
       "\n",
       "                         median                                              \\\n",
       "Year         2004   2005   1990  1991  1992  1993   1994  1995   1996  1997   \n",
       "Gender                                                                        \n",
       "Female  89.025714  76.95   94.8  92.3  94.9  92.1  91.05  97.8  95.95  95.8   \n",
       "Male    91.831429  84.93   96.0  95.8  96.4  94.4  95.65  94.4  95.95  94.1   \n",
       "\n",
       "                                                            \n",
       "Year     1998   1999  2000  2001   2002  2003  2004   2005  \n",
       "Gender                                                      \n",
       "Female  56.90  99.75  94.9  97.3  96.35  95.6  96.1  96.50  \n",
       "Male    74.45  99.75  94.5  96.8  97.40  92.1  97.3  97.55  "
      ]
     },
     "execution_count": 23,
     "metadata": {},
     "output_type": "execute_result"
    }
   ],
   "source": [
    "literacy_df_pivot = generate_pivot_table_mean_median(literacy_df)\n",
    "literacy_df_pivot"
   ]
  },
  {
   "cell_type": "code",
   "execution_count": 24,
   "metadata": {},
   "outputs": [],
   "source": [
    "# Plotting together: Mean and Median\n",
    "def plot_mean_median_literacy_gender(dataFrame, title, xlabel, ylabel):\n",
    "    plt.plot(dataFrame.loc['Male', 'mean'], color='darkblue')\n",
    "    plt.plot(dataFrame.loc['Male', 'median'], color='dodgerblue', linestyle = 'dashed')\n",
    "    plt.plot(dataFrame.loc['Female', 'mean'], color='darkred')\n",
    "    plt.plot(dataFrame.loc['Female', 'median'], color='indianred', linestyle = 'dashed')\n",
    "    plt.legend(['Mean-Male', 'Median-Male', 'Mean-Female', 'Median-Female'])\n",
    "\n",
    "    plt.title(title)\n",
    "    plt.xlabel(xlabel)\n",
    "    plt.ylabel(ylabel);"
   ]
  },
  {
   "cell_type": "code",
   "execution_count": 25,
   "metadata": {},
   "outputs": [
    {
     "data": {
      "image/png": "[encoded data removed]",
      "text/plain": [
       "<Figure size 432x288 with 1 Axes>"
      ]
     },
     "metadata": {},
     "output_type": "display_data"
    }
   ],
   "source": [
    "plot_mean_median_literacy_gender(dataFrame=literacy_df_pivot,\n",
    "                                 title=\"Mean and Median of Literacy by Gender from 1990 to 2005\",\n",
    "                                 xlabel=\"Year\",\n",
    "                                 ylabel=\"Mean/Median of Literacy Percentage\")"
   ]
  },
  {
   "cell_type": "markdown",
   "metadata": {},
   "source": [
    "Our graphs suggest that something happened in 1998 that warrant a significant deep in Literacy. Let's have a closer look into this year particularly"
   ]
  },
  {
   "cell_type": "markdown",
   "metadata": {},
   "source": [
    "#### Closer Look at `Literacy_Pct` in 1998"
   ]
  },
  {
   "cell_type": "code",
   "execution_count": 26,
   "metadata": {},
   "outputs": [
    {
     "data": {
      "text/html": [
       "<div>\n",
       "<style scoped>\n",
       "    .dataframe tbody tr th:only-of-type {\n",
       "        vertical-align: middle;\n",
       "    }\n",
       "\n",
       "    .dataframe tbody tr th {\n",
       "        vertical-align: top;\n",
       "    }\n",
       "\n",
       "    .dataframe thead th {\n",
       "        text-align: right;\n",
       "    }\n",
       "</style>\n",
       "<table border=\"1\" class=\"dataframe\">\n",
       "  <thead>\n",
       "    <tr style=\"text-align: right;\">\n",
       "      <th></th>\n",
       "      <th>Country</th>\n",
       "      <th>Year</th>\n",
       "      <th>Literacy_Pct</th>\n",
       "      <th>Gender</th>\n",
       "    </tr>\n",
       "  </thead>\n",
       "  <tbody>\n",
       "    <tr>\n",
       "      <th>67</th>\n",
       "      <td>Cambodia</td>\n",
       "      <td>1998</td>\n",
       "      <td>71.1</td>\n",
       "      <td>Female</td>\n",
       "    </tr>\n",
       "    <tr>\n",
       "      <th>69</th>\n",
       "      <td>Cambodia</td>\n",
       "      <td>1998</td>\n",
       "      <td>81.8</td>\n",
       "      <td>Male</td>\n",
       "    </tr>\n",
       "    <tr>\n",
       "      <th>210</th>\n",
       "      <td>Malawi</td>\n",
       "      <td>1998</td>\n",
       "      <td>70.7</td>\n",
       "      <td>Female</td>\n",
       "    </tr>\n",
       "    <tr>\n",
       "      <th>211</th>\n",
       "      <td>Malawi</td>\n",
       "      <td>1998</td>\n",
       "      <td>82.1</td>\n",
       "      <td>Male</td>\n",
       "    </tr>\n",
       "    <tr>\n",
       "      <th>222</th>\n",
       "      <td>Mali</td>\n",
       "      <td>1998</td>\n",
       "      <td>16.9</td>\n",
       "      <td>Female</td>\n",
       "    </tr>\n",
       "    <tr>\n",
       "      <th>223</th>\n",
       "      <td>Mali</td>\n",
       "      <td>1998</td>\n",
       "      <td>32.3</td>\n",
       "      <td>Male</td>\n",
       "    </tr>\n",
       "    <tr>\n",
       "      <th>277</th>\n",
       "      <td>Pakistan</td>\n",
       "      <td>1998</td>\n",
       "      <td>43.1</td>\n",
       "      <td>Female</td>\n",
       "    </tr>\n",
       "    <tr>\n",
       "      <th>279</th>\n",
       "      <td>Pakistan</td>\n",
       "      <td>1998</td>\n",
       "      <td>67.1</td>\n",
       "      <td>Male</td>\n",
       "    </tr>\n",
       "  </tbody>\n",
       "</table>\n",
       "</div>"
      ],
      "text/plain": [
       "      Country  Year  Literacy_Pct  Gender\n",
       "67   Cambodia  1998          71.1  Female\n",
       "69   Cambodia  1998          81.8    Male\n",
       "210    Malawi  1998          70.7  Female\n",
       "211    Malawi  1998          82.1    Male\n",
       "222      Mali  1998          16.9  Female\n",
       "223      Mali  1998          32.3    Male\n",
       "277  Pakistan  1998          43.1  Female\n",
       "279  Pakistan  1998          67.1    Male"
      ]
     },
     "metadata": {},
     "output_type": "display_data"
    },
    {
     "data": {
      "text/plain": [
       "(8, 4)"
      ]
     },
     "metadata": {},
     "output_type": "display_data"
    }
   ],
   "source": [
    "literacy_df_1998 = literacy_df[literacy_df['Year'] == 1998]\n",
    "display(literacy_df_1998)\n",
    "display(literacy_df_1998.shape)"
   ]
  },
  {
   "cell_type": "code",
   "execution_count": 27,
   "metadata": {},
   "outputs": [
    {
     "data": {
      "text/html": [
       "<div>\n",
       "<style scoped>\n",
       "    .dataframe tbody tr th:only-of-type {\n",
       "        vertical-align: middle;\n",
       "    }\n",
       "\n",
       "    .dataframe tbody tr th {\n",
       "        vertical-align: top;\n",
       "    }\n",
       "\n",
       "    .dataframe thead tr th {\n",
       "        text-align: left;\n",
       "    }\n",
       "\n",
       "    .dataframe thead tr:last-of-type th {\n",
       "        text-align: right;\n",
       "    }\n",
       "</style>\n",
       "<table border=\"1\" class=\"dataframe\">\n",
       "  <thead>\n",
       "    <tr>\n",
       "      <th></th>\n",
       "      <th colspan=\"2\" halign=\"left\">Literacy_Pct</th>\n",
       "    </tr>\n",
       "    <tr>\n",
       "      <th></th>\n",
       "      <th>mean</th>\n",
       "      <th>median</th>\n",
       "    </tr>\n",
       "    <tr>\n",
       "      <th>Gender</th>\n",
       "      <th></th>\n",
       "      <th></th>\n",
       "    </tr>\n",
       "  </thead>\n",
       "  <tbody>\n",
       "    <tr>\n",
       "      <th>Female</th>\n",
       "      <td>50.450</td>\n",
       "      <td>56.90</td>\n",
       "    </tr>\n",
       "    <tr>\n",
       "      <th>Male</th>\n",
       "      <td>65.825</td>\n",
       "      <td>74.45</td>\n",
       "    </tr>\n",
       "  </tbody>\n",
       "</table>\n",
       "</div>"
      ],
      "text/plain": [
       "       Literacy_Pct       \n",
       "               mean median\n",
       "Gender                    \n",
       "Female       50.450  56.90\n",
       "Male         65.825  74.45"
      ]
     },
     "execution_count": 27,
     "metadata": {},
     "output_type": "execute_result"
    }
   ],
   "source": [
    "# Mean and Median by gender\n",
    "literacy_df_1998.groupby('Gender')[['Literacy_Pct']].agg([np.mean, np.median])"
   ]
  },
  {
   "cell_type": "markdown",
   "metadata": {},
   "source": [
    "It looks like the main reasons are: \n",
    "1. We only have very few data available for that year (8 records)\n",
    "2. The literacy rate for that year was dragged down considerably by the low values of *Mali* (Outlier weight)"
   ]
  },
  {
   "cell_type": "markdown",
   "metadata": {},
   "source": [
    "**Let's also take a closer look at 1997 and 1993. Why are those years, despite having even lesser count than 1998 (See section *How are the years represented/distributed in this dataset?*), do not have a dive as deep as 1998?**"
   ]
  },
  {
   "cell_type": "code",
   "execution_count": 28,
   "metadata": {},
   "outputs": [
    {
     "data": {
      "text/html": [
       "<div>\n",
       "<style scoped>\n",
       "    .dataframe tbody tr th:only-of-type {\n",
       "        vertical-align: middle;\n",
       "    }\n",
       "\n",
       "    .dataframe tbody tr th {\n",
       "        vertical-align: top;\n",
       "    }\n",
       "\n",
       "    .dataframe thead th {\n",
       "        text-align: right;\n",
       "    }\n",
       "</style>\n",
       "<table border=\"1\" class=\"dataframe\">\n",
       "  <thead>\n",
       "    <tr style=\"text-align: right;\">\n",
       "      <th></th>\n",
       "      <th>Country</th>\n",
       "      <th>Year</th>\n",
       "      <th>Literacy_Pct</th>\n",
       "      <th>Gender</th>\n",
       "    </tr>\n",
       "  </thead>\n",
       "  <tbody>\n",
       "    <tr>\n",
       "      <th>248</th>\n",
       "      <td>Mozambique</td>\n",
       "      <td>1997</td>\n",
       "      <td>36.6</td>\n",
       "      <td>Female</td>\n",
       "    </tr>\n",
       "    <tr>\n",
       "      <th>249</th>\n",
       "      <td>Mozambique</td>\n",
       "      <td>1997</td>\n",
       "      <td>59.5</td>\n",
       "      <td>Male</td>\n",
       "    </tr>\n",
       "    <tr>\n",
       "      <th>281</th>\n",
       "      <td>Palestinian Territory, Occupied</td>\n",
       "      <td>1997</td>\n",
       "      <td>97.2</td>\n",
       "      <td>Female</td>\n",
       "    </tr>\n",
       "    <tr>\n",
       "      <th>283</th>\n",
       "      <td>Palestinian Territory, Occupied</td>\n",
       "      <td>1997</td>\n",
       "      <td>96.9</td>\n",
       "      <td>Male</td>\n",
       "    </tr>\n",
       "    <tr>\n",
       "      <th>315</th>\n",
       "      <td>Qatar</td>\n",
       "      <td>1997</td>\n",
       "      <td>95.8</td>\n",
       "      <td>Female</td>\n",
       "    </tr>\n",
       "    <tr>\n",
       "      <th>317</th>\n",
       "      <td>Qatar</td>\n",
       "      <td>1997</td>\n",
       "      <td>94.1</td>\n",
       "      <td>Male</td>\n",
       "    </tr>\n",
       "  </tbody>\n",
       "</table>\n",
       "</div>"
      ],
      "text/plain": [
       "                             Country  Year  Literacy_Pct  Gender\n",
       "248                       Mozambique  1997          36.6  Female\n",
       "249                       Mozambique  1997          59.5    Male\n",
       "281  Palestinian Territory, Occupied  1997          97.2  Female\n",
       "283  Palestinian Territory, Occupied  1997          96.9    Male\n",
       "315                            Qatar  1997          95.8  Female\n",
       "317                            Qatar  1997          94.1    Male"
      ]
     },
     "metadata": {},
     "output_type": "display_data"
    },
    {
     "data": {
      "text/plain": [
       "(6, 4)"
      ]
     },
     "metadata": {},
     "output_type": "display_data"
    }
   ],
   "source": [
    "literacy_df_1997 = literacy_df[literacy_df['Year'] == 1997]\n",
    "display(literacy_df_1997)\n",
    "display(literacy_df_1997.shape)"
   ]
  },
  {
   "cell_type": "code",
   "execution_count": 29,
   "metadata": {},
   "outputs": [
    {
     "data": {
      "text/html": [
       "<div>\n",
       "<style scoped>\n",
       "    .dataframe tbody tr th:only-of-type {\n",
       "        vertical-align: middle;\n",
       "    }\n",
       "\n",
       "    .dataframe tbody tr th {\n",
       "        vertical-align: top;\n",
       "    }\n",
       "\n",
       "    .dataframe thead th {\n",
       "        text-align: right;\n",
       "    }\n",
       "</style>\n",
       "<table border=\"1\" class=\"dataframe\">\n",
       "  <thead>\n",
       "    <tr style=\"text-align: right;\">\n",
       "      <th></th>\n",
       "      <th>Country</th>\n",
       "      <th>Year</th>\n",
       "      <th>Literacy_Pct</th>\n",
       "      <th>Gender</th>\n",
       "    </tr>\n",
       "  </thead>\n",
       "  <tbody>\n",
       "    <tr>\n",
       "      <th>89</th>\n",
       "      <td>Colombia</td>\n",
       "      <td>1993</td>\n",
       "      <td>91.8</td>\n",
       "      <td>Female</td>\n",
       "    </tr>\n",
       "    <tr>\n",
       "      <th>93</th>\n",
       "      <td>Colombia</td>\n",
       "      <td>1993</td>\n",
       "      <td>89.4</td>\n",
       "      <td>Male</td>\n",
       "    </tr>\n",
       "    <tr>\n",
       "      <th>137</th>\n",
       "      <td>Gabon</td>\n",
       "      <td>1993</td>\n",
       "      <td>92.1</td>\n",
       "      <td>Female</td>\n",
       "    </tr>\n",
       "    <tr>\n",
       "      <th>139</th>\n",
       "      <td>Gabon</td>\n",
       "      <td>1993</td>\n",
       "      <td>94.4</td>\n",
       "      <td>Male</td>\n",
       "    </tr>\n",
       "    <tr>\n",
       "      <th>296</th>\n",
       "      <td>Peru</td>\n",
       "      <td>1993</td>\n",
       "      <td>93.8</td>\n",
       "      <td>Female</td>\n",
       "    </tr>\n",
       "    <tr>\n",
       "      <th>299</th>\n",
       "      <td>Peru</td>\n",
       "      <td>1993</td>\n",
       "      <td>97.0</td>\n",
       "      <td>Male</td>\n",
       "    </tr>\n",
       "  </tbody>\n",
       "</table>\n",
       "</div>"
      ],
      "text/plain": [
       "      Country  Year  Literacy_Pct  Gender\n",
       "89   Colombia  1993          91.8  Female\n",
       "93   Colombia  1993          89.4    Male\n",
       "137     Gabon  1993          92.1  Female\n",
       "139     Gabon  1993          94.4    Male\n",
       "296      Peru  1993          93.8  Female\n",
       "299      Peru  1993          97.0    Male"
      ]
     },
     "metadata": {},
     "output_type": "display_data"
    },
    {
     "data": {
      "text/plain": [
       "(6, 4)"
      ]
     },
     "metadata": {},
     "output_type": "display_data"
    }
   ],
   "source": [
    "literacy_df_1993 = literacy_df[literacy_df['Year'] == 1993]\n",
    "display(literacy_df_1993)\n",
    "display(literacy_df_1993.shape)"
   ]
  },
  {
   "cell_type": "markdown",
   "metadata": {},
   "source": [
    "The main reason is because we do not have an extreme value as Mali's in 1998 and the other values are quite high, all close or above 90"
   ]
  },
  {
   "cell_type": "markdown",
   "metadata": {},
   "source": [
    "### `Literacy_Pct` in 2004"
   ]
  },
  {
   "cell_type": "markdown",
   "metadata": {},
   "source": [
    "Let's analyze the year that had the most data"
   ]
  },
  {
   "cell_type": "code",
   "execution_count": 30,
   "metadata": {},
   "outputs": [
    {
     "data": {
      "text/html": [
       "<div>\n",
       "<style scoped>\n",
       "    .dataframe tbody tr th:only-of-type {\n",
       "        vertical-align: middle;\n",
       "    }\n",
       "\n",
       "    .dataframe tbody tr th {\n",
       "        vertical-align: top;\n",
       "    }\n",
       "\n",
       "    .dataframe thead th {\n",
       "        text-align: right;\n",
       "    }\n",
       "</style>\n",
       "<table border=\"1\" class=\"dataframe\">\n",
       "  <thead>\n",
       "    <tr style=\"text-align: right;\">\n",
       "      <th></th>\n",
       "      <th>Country</th>\n",
       "      <th>Year</th>\n",
       "      <th>Literacy_Pct</th>\n",
       "      <th>Gender</th>\n",
       "    </tr>\n",
       "  </thead>\n",
       "  <tbody>\n",
       "    <tr>\n",
       "      <th>44</th>\n",
       "      <td>Brazil</td>\n",
       "      <td>2004</td>\n",
       "      <td>97.9</td>\n",
       "      <td>Female</td>\n",
       "    </tr>\n",
       "    <tr>\n",
       "      <th>46</th>\n",
       "      <td>Brazil</td>\n",
       "      <td>2004</td>\n",
       "      <td>95.8</td>\n",
       "      <td>Male</td>\n",
       "    </tr>\n",
       "    <tr>\n",
       "      <th>66</th>\n",
       "      <td>Cambodia</td>\n",
       "      <td>2004</td>\n",
       "      <td>78.9</td>\n",
       "      <td>Female</td>\n",
       "    </tr>\n",
       "    <tr>\n",
       "      <th>68</th>\n",
       "      <td>Cambodia</td>\n",
       "      <td>2004</td>\n",
       "      <td>87.9</td>\n",
       "      <td>Male</td>\n",
       "    </tr>\n",
       "    <tr>\n",
       "      <th>70</th>\n",
       "      <td>Cape Verde</td>\n",
       "      <td>2004</td>\n",
       "      <td>96.7</td>\n",
       "      <td>Female</td>\n",
       "    </tr>\n",
       "    <tr>\n",
       "      <th>...</th>\n",
       "      <td>...</td>\n",
       "      <td>...</td>\n",
       "      <td>...</td>\n",
       "      <td>...</td>\n",
       "    </tr>\n",
       "    <tr>\n",
       "      <th>408</th>\n",
       "      <td>United Arab Emirates</td>\n",
       "      <td>2004</td>\n",
       "      <td>97.9</td>\n",
       "      <td>Male</td>\n",
       "    </tr>\n",
       "    <tr>\n",
       "      <th>418</th>\n",
       "      <td>Yemen</td>\n",
       "      <td>2004</td>\n",
       "      <td>58.9</td>\n",
       "      <td>Female</td>\n",
       "    </tr>\n",
       "    <tr>\n",
       "      <th>420</th>\n",
       "      <td>Yemen</td>\n",
       "      <td>2004</td>\n",
       "      <td>90.7</td>\n",
       "      <td>Male</td>\n",
       "    </tr>\n",
       "    <tr>\n",
       "      <th>426</th>\n",
       "      <td>Zimbabwe</td>\n",
       "      <td>2004</td>\n",
       "      <td>97.9</td>\n",
       "      <td>Female</td>\n",
       "    </tr>\n",
       "    <tr>\n",
       "      <th>428</th>\n",
       "      <td>Zimbabwe</td>\n",
       "      <td>2004</td>\n",
       "      <td>97.5</td>\n",
       "      <td>Male</td>\n",
       "    </tr>\n",
       "  </tbody>\n",
       "</table>\n",
       "<p>70 rows × 4 columns</p>\n",
       "</div>"
      ],
      "text/plain": [
       "                  Country  Year  Literacy_Pct  Gender\n",
       "44                 Brazil  2004          97.9  Female\n",
       "46                 Brazil  2004          95.8    Male\n",
       "66               Cambodia  2004          78.9  Female\n",
       "68               Cambodia  2004          87.9    Male\n",
       "70             Cape Verde  2004          96.7  Female\n",
       "..                    ...   ...           ...     ...\n",
       "408  United Arab Emirates  2004          97.9    Male\n",
       "418                 Yemen  2004          58.9  Female\n",
       "420                 Yemen  2004          90.7    Male\n",
       "426              Zimbabwe  2004          97.9  Female\n",
       "428              Zimbabwe  2004          97.5    Male\n",
       "\n",
       "[70 rows x 4 columns]"
      ]
     },
     "execution_count": 30,
     "metadata": {},
     "output_type": "execute_result"
    }
   ],
   "source": [
    "literacy_df_2004 = literacy_df[literacy_df['Year'] == 2004]\n",
    "literacy_df_2004"
   ]
  },
  {
   "cell_type": "code",
   "execution_count": 31,
   "metadata": {},
   "outputs": [
    {
     "data": {
      "image/png": "[encoded data removed]",
      "text/plain": [
       "<Figure size 720x360 with 1 Axes>"
      ]
     },
     "metadata": {},
     "output_type": "display_data"
    }
   ],
   "source": [
    "plt.figure(figsize=(10,5))\n",
    "graph = sns.scatterplot(data=literacy_df_2004, x='Country', y='Literacy_Pct', hue='Gender', s=250, alpha=0.5)\n",
    "\n",
    "plt.title('Literacy Percentage of Countries in 2004')\n",
    "plt.xlabel('Country')\n",
    "plt.ylabel('Literacy Percentage')\n",
    "plt.tick_params(\n",
    "    axis='x',          # changes apply to the x-axis\n",
    "    which='both',      # both major and minor ticks are affected\n",
    "    bottom=False,      # ticks along the bottom edge are off\n",
    "    top=False,         # ticks along the top edge are off\n",
    "    labelbottom=False) # labels along the bottom edge are off"
   ]
  },
  {
   "cell_type": "code",
   "execution_count": 32,
   "metadata": {},
   "outputs": [
    {
     "data": {
      "text/html": [
       "<div>\n",
       "<style scoped>\n",
       "    .dataframe tbody tr th:only-of-type {\n",
       "        vertical-align: middle;\n",
       "    }\n",
       "\n",
       "    .dataframe tbody tr th {\n",
       "        vertical-align: top;\n",
       "    }\n",
       "\n",
       "    .dataframe thead th {\n",
       "        text-align: right;\n",
       "    }\n",
       "</style>\n",
       "<table border=\"1\" class=\"dataframe\">\n",
       "  <thead>\n",
       "    <tr style=\"text-align: right;\">\n",
       "      <th></th>\n",
       "      <th>Country</th>\n",
       "      <th>Year</th>\n",
       "      <th>Literacy_Pct</th>\n",
       "      <th>Gender</th>\n",
       "    </tr>\n",
       "  </thead>\n",
       "  <tbody>\n",
       "    <tr>\n",
       "      <th>132</th>\n",
       "      <td>Ethiopia</td>\n",
       "      <td>2004</td>\n",
       "      <td>33.8</td>\n",
       "      <td>Female</td>\n",
       "    </tr>\n",
       "    <tr>\n",
       "      <th>134</th>\n",
       "      <td>Ethiopia</td>\n",
       "      <td>2004</td>\n",
       "      <td>28.6</td>\n",
       "      <td>Male</td>\n",
       "    </tr>\n",
       "    <tr>\n",
       "      <th>352</th>\n",
       "      <td>Sierra Leone</td>\n",
       "      <td>2004</td>\n",
       "      <td>37.4</td>\n",
       "      <td>Female</td>\n",
       "    </tr>\n",
       "  </tbody>\n",
       "</table>\n",
       "</div>"
      ],
      "text/plain": [
       "          Country  Year  Literacy_Pct  Gender\n",
       "132      Ethiopia  2004          33.8  Female\n",
       "134      Ethiopia  2004          28.6    Male\n",
       "352  Sierra Leone  2004          37.4  Female"
      ]
     },
     "execution_count": 32,
     "metadata": {},
     "output_type": "execute_result"
    }
   ],
   "source": [
    "literacy_df_2004[literacy_df_2004['Literacy_Pct'] < 40]"
   ]
  },
  {
   "cell_type": "markdown",
   "metadata": {},
   "source": [
    "#### Which gender typically have higher literacy in 2004?"
   ]
  },
  {
   "cell_type": "code",
   "execution_count": 33,
   "metadata": {},
   "outputs": [
    {
     "data": {
      "text/html": [
       "<div>\n",
       "<style scoped>\n",
       "    .dataframe tbody tr th:only-of-type {\n",
       "        vertical-align: middle;\n",
       "    }\n",
       "\n",
       "    .dataframe tbody tr th {\n",
       "        vertical-align: top;\n",
       "    }\n",
       "\n",
       "    .dataframe thead th {\n",
       "        text-align: right;\n",
       "    }\n",
       "</style>\n",
       "<table border=\"1\" class=\"dataframe\">\n",
       "  <thead>\n",
       "    <tr style=\"text-align: right;\">\n",
       "      <th></th>\n",
       "      <th>mean</th>\n",
       "      <th>median</th>\n",
       "    </tr>\n",
       "    <tr>\n",
       "      <th>Gender</th>\n",
       "      <th></th>\n",
       "      <th></th>\n",
       "    </tr>\n",
       "  </thead>\n",
       "  <tbody>\n",
       "    <tr>\n",
       "      <th>Female</th>\n",
       "      <td>89.025714</td>\n",
       "      <td>96.1</td>\n",
       "    </tr>\n",
       "    <tr>\n",
       "      <th>Male</th>\n",
       "      <td>91.831429</td>\n",
       "      <td>97.3</td>\n",
       "    </tr>\n",
       "  </tbody>\n",
       "</table>\n",
       "</div>"
      ],
      "text/plain": [
       "             mean  median\n",
       "Gender                   \n",
       "Female  89.025714    96.1\n",
       "Male    91.831429    97.3"
      ]
     },
     "execution_count": 33,
     "metadata": {},
     "output_type": "execute_result"
    }
   ],
   "source": [
    "literacy_df_2004.groupby('Gender')['Literacy_Pct'].agg(['mean', 'median'])"
   ]
  },
  {
   "cell_type": "markdown",
   "metadata": {},
   "source": [
    "It appears that male's literacy is *typically* higher than female's literacy in 2004. However, the difference is only by 1 percent"
   ]
  },
  {
   "cell_type": "markdown",
   "metadata": {},
   "source": [
    "#### Which countries where the top and bottom in literacy in 2004?"
   ]
  },
  {
   "cell_type": "code",
   "execution_count": 34,
   "metadata": {},
   "outputs": [
    {
     "data": {
      "text/html": [
       "<div>\n",
       "<style scoped>\n",
       "    .dataframe tbody tr th:only-of-type {\n",
       "        vertical-align: middle;\n",
       "    }\n",
       "\n",
       "    .dataframe tbody tr th {\n",
       "        vertical-align: top;\n",
       "    }\n",
       "\n",
       "    .dataframe thead th {\n",
       "        text-align: right;\n",
       "    }\n",
       "</style>\n",
       "<table border=\"1\" class=\"dataframe\">\n",
       "  <thead>\n",
       "    <tr style=\"text-align: right;\">\n",
       "      <th></th>\n",
       "      <th>Country</th>\n",
       "      <th>Year</th>\n",
       "      <th>Literacy_Pct</th>\n",
       "      <th>Gender</th>\n",
       "    </tr>\n",
       "  </thead>\n",
       "  <tbody>\n",
       "    <tr>\n",
       "      <th>171</th>\n",
       "      <td>Israel</td>\n",
       "      <td>2004</td>\n",
       "      <td>100.0</td>\n",
       "      <td>Male</td>\n",
       "    </tr>\n",
       "  </tbody>\n",
       "</table>\n",
       "</div>"
      ],
      "text/plain": [
       "    Country  Year  Literacy_Pct Gender\n",
       "171  Israel  2004         100.0   Male"
      ]
     },
     "execution_count": 34,
     "metadata": {},
     "output_type": "execute_result"
    }
   ],
   "source": [
    "literacy_df_2004.nlargest(1,'Literacy_Pct')"
   ]
  },
  {
   "cell_type": "code",
   "execution_count": 35,
   "metadata": {},
   "outputs": [
    {
     "data": {
      "text/html": [
       "<div>\n",
       "<style scoped>\n",
       "    .dataframe tbody tr th:only-of-type {\n",
       "        vertical-align: middle;\n",
       "    }\n",
       "\n",
       "    .dataframe tbody tr th {\n",
       "        vertical-align: top;\n",
       "    }\n",
       "\n",
       "    .dataframe thead th {\n",
       "        text-align: right;\n",
       "    }\n",
       "</style>\n",
       "<table border=\"1\" class=\"dataframe\">\n",
       "  <thead>\n",
       "    <tr style=\"text-align: right;\">\n",
       "      <th></th>\n",
       "      <th>Country</th>\n",
       "      <th>Year</th>\n",
       "      <th>Literacy_Pct</th>\n",
       "      <th>Gender</th>\n",
       "    </tr>\n",
       "  </thead>\n",
       "  <tbody>\n",
       "    <tr>\n",
       "      <th>134</th>\n",
       "      <td>Ethiopia</td>\n",
       "      <td>2004</td>\n",
       "      <td>28.6</td>\n",
       "      <td>Male</td>\n",
       "    </tr>\n",
       "  </tbody>\n",
       "</table>\n",
       "</div>"
      ],
      "text/plain": [
       "      Country  Year  Literacy_Pct Gender\n",
       "134  Ethiopia  2004          28.6   Male"
      ]
     },
     "execution_count": 35,
     "metadata": {},
     "output_type": "execute_result"
    }
   ],
   "source": [
    "literacy_df_2004.nsmallest(1,'Literacy_Pct')"
   ]
  },
  {
   "cell_type": "markdown",
   "metadata": {},
   "source": [
    "#### How many data points do we have for these 2 countries for all the years?"
   ]
  },
  {
   "cell_type": "code",
   "execution_count": 36,
   "metadata": {},
   "outputs": [],
   "source": [
    "data_israel = literacy_df[literacy_df['Country'] == 'Israel']\n",
    "data_ethiopia = literacy_df[literacy_df['Country'] == 'Ethiopia']"
   ]
  },
  {
   "cell_type": "code",
   "execution_count": 37,
   "metadata": {},
   "outputs": [
    {
     "data": {
      "text/html": [
       "<div>\n",
       "<style scoped>\n",
       "    .dataframe tbody tr th:only-of-type {\n",
       "        vertical-align: middle;\n",
       "    }\n",
       "\n",
       "    .dataframe tbody tr th {\n",
       "        vertical-align: top;\n",
       "    }\n",
       "\n",
       "    .dataframe thead th {\n",
       "        text-align: right;\n",
       "    }\n",
       "</style>\n",
       "<table border=\"1\" class=\"dataframe\">\n",
       "  <thead>\n",
       "    <tr style=\"text-align: right;\">\n",
       "      <th></th>\n",
       "      <th>Country</th>\n",
       "      <th>Year</th>\n",
       "      <th>Literacy_Pct</th>\n",
       "      <th>Gender</th>\n",
       "    </tr>\n",
       "  </thead>\n",
       "  <tbody>\n",
       "    <tr>\n",
       "      <th>170</th>\n",
       "      <td>Israel</td>\n",
       "      <td>2004</td>\n",
       "      <td>99.6</td>\n",
       "      <td>Female</td>\n",
       "    </tr>\n",
       "    <tr>\n",
       "      <th>171</th>\n",
       "      <td>Israel</td>\n",
       "      <td>2004</td>\n",
       "      <td>100.0</td>\n",
       "      <td>Male</td>\n",
       "    </tr>\n",
       "  </tbody>\n",
       "</table>\n",
       "</div>"
      ],
      "text/plain": [
       "    Country  Year  Literacy_Pct  Gender\n",
       "170  Israel  2004          99.6  Female\n",
       "171  Israel  2004         100.0    Male"
      ]
     },
     "metadata": {},
     "output_type": "display_data"
    },
    {
     "data": {
      "text/html": [
       "<div>\n",
       "<style scoped>\n",
       "    .dataframe tbody tr th:only-of-type {\n",
       "        vertical-align: middle;\n",
       "    }\n",
       "\n",
       "    .dataframe tbody tr th {\n",
       "        vertical-align: top;\n",
       "    }\n",
       "\n",
       "    .dataframe thead th {\n",
       "        text-align: right;\n",
       "    }\n",
       "</style>\n",
       "<table border=\"1\" class=\"dataframe\">\n",
       "  <thead>\n",
       "    <tr style=\"text-align: right;\">\n",
       "      <th></th>\n",
       "      <th>Country</th>\n",
       "      <th>Year</th>\n",
       "      <th>Literacy_Pct</th>\n",
       "      <th>Gender</th>\n",
       "    </tr>\n",
       "  </thead>\n",
       "  <tbody>\n",
       "    <tr>\n",
       "      <th>132</th>\n",
       "      <td>Ethiopia</td>\n",
       "      <td>2004</td>\n",
       "      <td>33.8</td>\n",
       "      <td>Female</td>\n",
       "    </tr>\n",
       "    <tr>\n",
       "      <th>133</th>\n",
       "      <td>Ethiopia</td>\n",
       "      <td>1994</td>\n",
       "      <td>28.1</td>\n",
       "      <td>Female</td>\n",
       "    </tr>\n",
       "    <tr>\n",
       "      <th>134</th>\n",
       "      <td>Ethiopia</td>\n",
       "      <td>2004</td>\n",
       "      <td>28.6</td>\n",
       "      <td>Male</td>\n",
       "    </tr>\n",
       "    <tr>\n",
       "      <th>135</th>\n",
       "      <td>Ethiopia</td>\n",
       "      <td>1994</td>\n",
       "      <td>39.3</td>\n",
       "      <td>Male</td>\n",
       "    </tr>\n",
       "  </tbody>\n",
       "</table>\n",
       "</div>"
      ],
      "text/plain": [
       "      Country  Year  Literacy_Pct  Gender\n",
       "132  Ethiopia  2004          33.8  Female\n",
       "133  Ethiopia  1994          28.1  Female\n",
       "134  Ethiopia  2004          28.6    Male\n",
       "135  Ethiopia  1994          39.3    Male"
      ]
     },
     "metadata": {},
     "output_type": "display_data"
    }
   ],
   "source": [
    "display(data_israel)\n",
    "display(data_ethiopia)"
   ]
  },
  {
   "cell_type": "markdown",
   "metadata": {},
   "source": [
    "It appears that we do not have much data one these 2 countries"
   ]
  },
  {
   "cell_type": "markdown",
   "metadata": {},
   "source": [
    "## Joining With GDP and Internet"
   ]
  },
  {
   "cell_type": "markdown",
   "metadata": {},
   "source": [
    "Let's now merge this dataset with our previously merged dataset and explore if there is any correlations we can find"
   ]
  },
  {
   "cell_type": "markdown",
   "metadata": {},
   "source": [
    "### Importing and cleaning `gdp_df`"
   ]
  },
  {
   "cell_type": "code",
   "execution_count": 38,
   "metadata": {},
   "outputs": [
    {
     "data": {
      "text/html": [
       "<div>\n",
       "<style scoped>\n",
       "    .dataframe tbody tr th:only-of-type {\n",
       "        vertical-align: middle;\n",
       "    }\n",
       "\n",
       "    .dataframe tbody tr th {\n",
       "        vertical-align: top;\n",
       "    }\n",
       "\n",
       "    .dataframe thead th {\n",
       "        text-align: right;\n",
       "    }\n",
       "</style>\n",
       "<table border=\"1\" class=\"dataframe\">\n",
       "  <thead>\n",
       "    <tr style=\"text-align: right;\">\n",
       "      <th></th>\n",
       "      <th>Country</th>\n",
       "      <th>Year</th>\n",
       "      <th>GDP_Per_Capita</th>\n",
       "    </tr>\n",
       "  </thead>\n",
       "  <tbody>\n",
       "    <tr>\n",
       "      <th>0</th>\n",
       "      <td>Afghanistan</td>\n",
       "      <td>2018</td>\n",
       "      <td>1734.723214</td>\n",
       "    </tr>\n",
       "    <tr>\n",
       "      <th>1</th>\n",
       "      <td>Afghanistan</td>\n",
       "      <td>2017</td>\n",
       "      <td>1758.465636</td>\n",
       "    </tr>\n",
       "    <tr>\n",
       "      <th>2</th>\n",
       "      <td>Afghanistan</td>\n",
       "      <td>2016</td>\n",
       "      <td>1757.023490</td>\n",
       "    </tr>\n",
       "    <tr>\n",
       "      <th>3</th>\n",
       "      <td>Afghanistan</td>\n",
       "      <td>2015</td>\n",
       "      <td>1766.593077</td>\n",
       "    </tr>\n",
       "    <tr>\n",
       "      <th>4</th>\n",
       "      <td>Afghanistan</td>\n",
       "      <td>2014</td>\n",
       "      <td>1795.735834</td>\n",
       "    </tr>\n",
       "  </tbody>\n",
       "</table>\n",
       "</div>"
      ],
      "text/plain": [
       "       Country  Year  GDP_Per_Capita\n",
       "0  Afghanistan  2018     1734.723214\n",
       "1  Afghanistan  2017     1758.465636\n",
       "2  Afghanistan  2016     1757.023490\n",
       "3  Afghanistan  2015     1766.593077\n",
       "4  Afghanistan  2014     1795.735834"
      ]
     },
     "metadata": {},
     "output_type": "display_data"
    },
    {
     "data": {
      "text/html": [
       "<div>\n",
       "<style scoped>\n",
       "    .dataframe tbody tr th:only-of-type {\n",
       "        vertical-align: middle;\n",
       "    }\n",
       "\n",
       "    .dataframe tbody tr th {\n",
       "        vertical-align: top;\n",
       "    }\n",
       "\n",
       "    .dataframe thead th {\n",
       "        text-align: right;\n",
       "    }\n",
       "</style>\n",
       "<table border=\"1\" class=\"dataframe\">\n",
       "  <thead>\n",
       "    <tr style=\"text-align: right;\">\n",
       "      <th></th>\n",
       "      <th>Country</th>\n",
       "      <th>Year</th>\n",
       "      <th>GDP_Per_Capita</th>\n",
       "    </tr>\n",
       "  </thead>\n",
       "  <tbody>\n",
       "    <tr>\n",
       "      <th>6724</th>\n",
       "      <td>Zimbabwe</td>\n",
       "      <td>1994</td>\n",
       "      <td>2768.309953</td>\n",
       "    </tr>\n",
       "    <tr>\n",
       "      <th>6725</th>\n",
       "      <td>Zimbabwe</td>\n",
       "      <td>1993</td>\n",
       "      <td>2572.870395</td>\n",
       "    </tr>\n",
       "    <tr>\n",
       "      <th>6726</th>\n",
       "      <td>Zimbabwe</td>\n",
       "      <td>1992</td>\n",
       "      <td>2591.007534</td>\n",
       "    </tr>\n",
       "    <tr>\n",
       "      <th>6727</th>\n",
       "      <td>Zimbabwe</td>\n",
       "      <td>1991</td>\n",
       "      <td>2906.272849</td>\n",
       "    </tr>\n",
       "    <tr>\n",
       "      <th>6728</th>\n",
       "      <td>Zimbabwe</td>\n",
       "      <td>1990</td>\n",
       "      <td>2819.549467</td>\n",
       "    </tr>\n",
       "  </tbody>\n",
       "</table>\n",
       "</div>"
      ],
      "text/plain": [
       "       Country  Year  GDP_Per_Capita\n",
       "6724  Zimbabwe  1994     2768.309953\n",
       "6725  Zimbabwe  1993     2572.870395\n",
       "6726  Zimbabwe  1992     2591.007534\n",
       "6727  Zimbabwe  1991     2906.272849\n",
       "6728  Zimbabwe  1990     2819.549467"
      ]
     },
     "metadata": {},
     "output_type": "display_data"
    }
   ],
   "source": [
    "# These were codes that we previously had\n",
    "\n",
    "gdp_df = pd.read_csv(\"../data/gdp_per_capita.csv\", skipfooter=2, engine=\"python\") # Another option is: gdp_df = gdp_df[:-2]\n",
    "\n",
    "# Deleting the \"Value Footnotes\" column\n",
    "gdp_df = gdp_df.drop('Value Footnotes', axis = 1)\n",
    "\n",
    "# Renaming the columns\n",
    "gdp_df.columns = [\"Country\", \"Year\", \"GDP_Per_Capita\"]\n",
    "\n",
    "# Peek\n",
    "display(gdp_df.head())\n",
    "display(gdp_df.tail())"
   ]
  },
  {
   "cell_type": "markdown",
   "metadata": {},
   "source": [
    "### Importing and cleaning `internet_df`"
   ]
  },
  {
   "cell_type": "code",
   "execution_count": 39,
   "metadata": {},
   "outputs": [
    {
     "name": "stderr",
     "output_type": "stream",
     "text": [
      "b'Skipping line 4675: expected 4 fields, saw 6\\n'\n"
     ]
    },
    {
     "data": {
      "text/html": [
       "<div>\n",
       "<style scoped>\n",
       "    .dataframe tbody tr th:only-of-type {\n",
       "        vertical-align: middle;\n",
       "    }\n",
       "\n",
       "    .dataframe tbody tr th {\n",
       "        vertical-align: top;\n",
       "    }\n",
       "\n",
       "    .dataframe thead th {\n",
       "        text-align: right;\n",
       "    }\n",
       "</style>\n",
       "<table border=\"1\" class=\"dataframe\">\n",
       "  <thead>\n",
       "    <tr style=\"text-align: right;\">\n",
       "      <th></th>\n",
       "      <th>Country</th>\n",
       "      <th>Year</th>\n",
       "      <th>Internet_Users_Pct</th>\n",
       "    </tr>\n",
       "  </thead>\n",
       "  <tbody>\n",
       "    <tr>\n",
       "      <th>0</th>\n",
       "      <td>Afghanistan</td>\n",
       "      <td>2014</td>\n",
       "      <td>6.390000</td>\n",
       "    </tr>\n",
       "    <tr>\n",
       "      <th>1</th>\n",
       "      <td>Afghanistan</td>\n",
       "      <td>2013</td>\n",
       "      <td>5.900000</td>\n",
       "    </tr>\n",
       "    <tr>\n",
       "      <th>2</th>\n",
       "      <td>Afghanistan</td>\n",
       "      <td>2012</td>\n",
       "      <td>5.454545</td>\n",
       "    </tr>\n",
       "    <tr>\n",
       "      <th>3</th>\n",
       "      <td>Afghanistan</td>\n",
       "      <td>2011</td>\n",
       "      <td>5.000000</td>\n",
       "    </tr>\n",
       "    <tr>\n",
       "      <th>4</th>\n",
       "      <td>Afghanistan</td>\n",
       "      <td>2010</td>\n",
       "      <td>4.000000</td>\n",
       "    </tr>\n",
       "  </tbody>\n",
       "</table>\n",
       "</div>"
      ],
      "text/plain": [
       "       Country  Year  Internet_Users_Pct\n",
       "0  Afghanistan  2014            6.390000\n",
       "1  Afghanistan  2013            5.900000\n",
       "2  Afghanistan  2012            5.454545\n",
       "3  Afghanistan  2011            5.000000\n",
       "4  Afghanistan  2010            4.000000"
      ]
     },
     "metadata": {},
     "output_type": "display_data"
    },
    {
     "data": {
      "text/html": [
       "<div>\n",
       "<style scoped>\n",
       "    .dataframe tbody tr th:only-of-type {\n",
       "        vertical-align: middle;\n",
       "    }\n",
       "\n",
       "    .dataframe tbody tr th {\n",
       "        vertical-align: top;\n",
       "    }\n",
       "\n",
       "    .dataframe thead th {\n",
       "        text-align: right;\n",
       "    }\n",
       "</style>\n",
       "<table border=\"1\" class=\"dataframe\">\n",
       "  <thead>\n",
       "    <tr style=\"text-align: right;\">\n",
       "      <th></th>\n",
       "      <th>Country</th>\n",
       "      <th>Year</th>\n",
       "      <th>Internet_Users_Pct</th>\n",
       "    </tr>\n",
       "  </thead>\n",
       "  <tbody>\n",
       "    <tr>\n",
       "      <th>4490</th>\n",
       "      <td>Zimbabwe</td>\n",
       "      <td>1997</td>\n",
       "      <td>0.033080</td>\n",
       "    </tr>\n",
       "    <tr>\n",
       "      <th>4491</th>\n",
       "      <td>Zimbabwe</td>\n",
       "      <td>1996</td>\n",
       "      <td>0.016790</td>\n",
       "    </tr>\n",
       "    <tr>\n",
       "      <th>4492</th>\n",
       "      <td>Zimbabwe</td>\n",
       "      <td>1995</td>\n",
       "      <td>0.007684</td>\n",
       "    </tr>\n",
       "    <tr>\n",
       "      <th>4493</th>\n",
       "      <td>Zimbabwe</td>\n",
       "      <td>1994</td>\n",
       "      <td>0.001739</td>\n",
       "    </tr>\n",
       "    <tr>\n",
       "      <th>4494</th>\n",
       "      <td>Zimbabwe</td>\n",
       "      <td>1990</td>\n",
       "      <td>0.000000</td>\n",
       "    </tr>\n",
       "  </tbody>\n",
       "</table>\n",
       "</div>"
      ],
      "text/plain": [
       "       Country  Year  Internet_Users_Pct\n",
       "4490  Zimbabwe  1997            0.033080\n",
       "4491  Zimbabwe  1996            0.016790\n",
       "4492  Zimbabwe  1995            0.007684\n",
       "4493  Zimbabwe  1994            0.001739\n",
       "4494  Zimbabwe  1990            0.000000"
      ]
     },
     "metadata": {},
     "output_type": "display_data"
    }
   ],
   "source": [
    "# These were codes that we previously had\n",
    "\n",
    "# There are too many junks in the last part of the CSV file. We need to get rid of them\n",
    "internet_df = pd.read_csv('../data/internet_use.csv', warn_bad_lines=True, error_bad_lines=False)\n",
    "\n",
    "# Last 180 rows are still bad: Need cleanup\n",
    "internet_df.drop(internet_df.tail(180).index, inplace=True) # drop last 180 rows\n",
    "\n",
    "# Converting Year to integer\n",
    "internet_df['Year'] = internet_df['Year'].astype('int64')\n",
    "\n",
    "# Drop Value Footnotes\n",
    "internet_df = internet_df.drop(labels=['Value Footnotes'], axis=1)\n",
    "\n",
    "# Rename columns\n",
    "internet_df.columns = ['Country', 'Year', 'Internet_Users_Pct']\n",
    "\n",
    "# Peek\n",
    "display(internet_df.head())\n",
    "display(internet_df.tail())"
   ]
  },
  {
   "cell_type": "markdown",
   "metadata": {},
   "source": [
    "### Merging `gdp_df` and `internet_df`"
   ]
  },
  {
   "cell_type": "code",
   "execution_count": 40,
   "metadata": {},
   "outputs": [
    {
     "data": {
      "text/html": [
       "<div>\n",
       "<style scoped>\n",
       "    .dataframe tbody tr th:only-of-type {\n",
       "        vertical-align: middle;\n",
       "    }\n",
       "\n",
       "    .dataframe tbody tr th {\n",
       "        vertical-align: top;\n",
       "    }\n",
       "\n",
       "    .dataframe thead th {\n",
       "        text-align: right;\n",
       "    }\n",
       "</style>\n",
       "<table border=\"1\" class=\"dataframe\">\n",
       "  <thead>\n",
       "    <tr style=\"text-align: right;\">\n",
       "      <th></th>\n",
       "      <th>Country</th>\n",
       "      <th>Year</th>\n",
       "      <th>GDP_Per_Capita</th>\n",
       "      <th>Internet_Users_Pct</th>\n",
       "    </tr>\n",
       "  </thead>\n",
       "  <tbody>\n",
       "    <tr>\n",
       "      <th>0</th>\n",
       "      <td>Afghanistan</td>\n",
       "      <td>2014</td>\n",
       "      <td>1795.735834</td>\n",
       "      <td>6.390000</td>\n",
       "    </tr>\n",
       "    <tr>\n",
       "      <th>1</th>\n",
       "      <td>Afghanistan</td>\n",
       "      <td>2013</td>\n",
       "      <td>1807.762344</td>\n",
       "      <td>5.900000</td>\n",
       "    </tr>\n",
       "    <tr>\n",
       "      <th>2</th>\n",
       "      <td>Afghanistan</td>\n",
       "      <td>2012</td>\n",
       "      <td>1772.764974</td>\n",
       "      <td>5.454545</td>\n",
       "    </tr>\n",
       "    <tr>\n",
       "      <th>3</th>\n",
       "      <td>Afghanistan</td>\n",
       "      <td>2011</td>\n",
       "      <td>1626.764793</td>\n",
       "      <td>5.000000</td>\n",
       "    </tr>\n",
       "    <tr>\n",
       "      <th>4</th>\n",
       "      <td>Afghanistan</td>\n",
       "      <td>2010</td>\n",
       "      <td>1671.581238</td>\n",
       "      <td>4.000000</td>\n",
       "    </tr>\n",
       "  </tbody>\n",
       "</table>\n",
       "</div>"
      ],
      "text/plain": [
       "       Country  Year  GDP_Per_Capita  Internet_Users_Pct\n",
       "0  Afghanistan  2014     1795.735834            6.390000\n",
       "1  Afghanistan  2013     1807.762344            5.900000\n",
       "2  Afghanistan  2012     1772.764974            5.454545\n",
       "3  Afghanistan  2011     1626.764793            5.000000\n",
       "4  Afghanistan  2010     1671.581238            4.000000"
      ]
     },
     "metadata": {},
     "output_type": "display_data"
    },
    {
     "data": {
      "text/html": [
       "<div>\n",
       "<style scoped>\n",
       "    .dataframe tbody tr th:only-of-type {\n",
       "        vertical-align: middle;\n",
       "    }\n",
       "\n",
       "    .dataframe tbody tr th {\n",
       "        vertical-align: top;\n",
       "    }\n",
       "\n",
       "    .dataframe thead th {\n",
       "        text-align: right;\n",
       "    }\n",
       "</style>\n",
       "<table border=\"1\" class=\"dataframe\">\n",
       "  <thead>\n",
       "    <tr style=\"text-align: right;\">\n",
       "      <th></th>\n",
       "      <th>Country</th>\n",
       "      <th>Year</th>\n",
       "      <th>GDP_Per_Capita</th>\n",
       "      <th>Internet_Users_Pct</th>\n",
       "    </tr>\n",
       "  </thead>\n",
       "  <tbody>\n",
       "    <tr>\n",
       "      <th>3514</th>\n",
       "      <td>Zimbabwe</td>\n",
       "      <td>1997</td>\n",
       "      <td>3036.422224</td>\n",
       "      <td>0.033080</td>\n",
       "    </tr>\n",
       "    <tr>\n",
       "      <th>3515</th>\n",
       "      <td>Zimbabwe</td>\n",
       "      <td>1996</td>\n",
       "      <td>2985.856605</td>\n",
       "      <td>0.016790</td>\n",
       "    </tr>\n",
       "    <tr>\n",
       "      <th>3516</th>\n",
       "      <td>Zimbabwe</td>\n",
       "      <td>1995</td>\n",
       "      <td>2736.486436</td>\n",
       "      <td>0.007684</td>\n",
       "    </tr>\n",
       "    <tr>\n",
       "      <th>3517</th>\n",
       "      <td>Zimbabwe</td>\n",
       "      <td>1994</td>\n",
       "      <td>2768.309953</td>\n",
       "      <td>0.001739</td>\n",
       "    </tr>\n",
       "    <tr>\n",
       "      <th>3518</th>\n",
       "      <td>Zimbabwe</td>\n",
       "      <td>1990</td>\n",
       "      <td>2819.549467</td>\n",
       "      <td>0.000000</td>\n",
       "    </tr>\n",
       "  </tbody>\n",
       "</table>\n",
       "</div>"
      ],
      "text/plain": [
       "       Country  Year  GDP_Per_Capita  Internet_Users_Pct\n",
       "3514  Zimbabwe  1997     3036.422224            0.033080\n",
       "3515  Zimbabwe  1996     2985.856605            0.016790\n",
       "3516  Zimbabwe  1995     2736.486436            0.007684\n",
       "3517  Zimbabwe  1994     2768.309953            0.001739\n",
       "3518  Zimbabwe  1990     2819.549467            0.000000"
      ]
     },
     "metadata": {},
     "output_type": "display_data"
    }
   ],
   "source": [
    "# These were codes that we previously had\n",
    "\n",
    "gdp_and_internet_use = gdp_df.merge(internet_df, on=['Country', 'Year'])\n",
    "\n",
    "# Peek\n",
    "display(gdp_and_internet_use.head())\n",
    "display(gdp_and_internet_use.tail())"
   ]
  },
  {
   "cell_type": "markdown",
   "metadata": {},
   "source": [
    "### Merging `gdp_and_internet_use` and `literacy_df`"
   ]
  },
  {
   "cell_type": "code",
   "execution_count": 41,
   "metadata": {},
   "outputs": [],
   "source": [
    "# First, we need to put Literacy_Pct and Internet_Users_Pct in the same format\n",
    "literacy_df['Literacy_Pct'] = literacy_df['Literacy_Pct']"
   ]
  },
  {
   "cell_type": "code",
   "execution_count": 42,
   "metadata": {},
   "outputs": [
    {
     "data": {
      "text/html": [
       "<div>\n",
       "<style scoped>\n",
       "    .dataframe tbody tr th:only-of-type {\n",
       "        vertical-align: middle;\n",
       "    }\n",
       "\n",
       "    .dataframe tbody tr th {\n",
       "        vertical-align: top;\n",
       "    }\n",
       "\n",
       "    .dataframe thead th {\n",
       "        text-align: right;\n",
       "    }\n",
       "</style>\n",
       "<table border=\"1\" class=\"dataframe\">\n",
       "  <thead>\n",
       "    <tr style=\"text-align: right;\">\n",
       "      <th></th>\n",
       "      <th>Country</th>\n",
       "      <th>Year</th>\n",
       "      <th>GDP_Per_Capita</th>\n",
       "      <th>Internet_Users_Pct</th>\n",
       "      <th>Literacy_Pct</th>\n",
       "      <th>Gender</th>\n",
       "    </tr>\n",
       "  </thead>\n",
       "  <tbody>\n",
       "    <tr>\n",
       "      <th>0</th>\n",
       "      <td>Albania</td>\n",
       "      <td>2001</td>\n",
       "      <td>5949.343236</td>\n",
       "      <td>0.325798</td>\n",
       "      <td>99.5</td>\n",
       "      <td>Female</td>\n",
       "    </tr>\n",
       "    <tr>\n",
       "      <th>1</th>\n",
       "      <td>Albania</td>\n",
       "      <td>2001</td>\n",
       "      <td>5949.343236</td>\n",
       "      <td>0.325798</td>\n",
       "      <td>99.4</td>\n",
       "      <td>Male</td>\n",
       "    </tr>\n",
       "    <tr>\n",
       "      <th>2</th>\n",
       "      <td>Algeria</td>\n",
       "      <td>2002</td>\n",
       "      <td>10872.434079</td>\n",
       "      <td>1.591641</td>\n",
       "      <td>86.1</td>\n",
       "      <td>Female</td>\n",
       "    </tr>\n",
       "    <tr>\n",
       "      <th>3</th>\n",
       "      <td>Algeria</td>\n",
       "      <td>2002</td>\n",
       "      <td>10872.434079</td>\n",
       "      <td>1.591641</td>\n",
       "      <td>94.1</td>\n",
       "      <td>Male</td>\n",
       "    </tr>\n",
       "    <tr>\n",
       "      <th>4</th>\n",
       "      <td>Angola</td>\n",
       "      <td>2001</td>\n",
       "      <td>3924.316196</td>\n",
       "      <td>0.136014</td>\n",
       "      <td>63.2</td>\n",
       "      <td>Female</td>\n",
       "    </tr>\n",
       "  </tbody>\n",
       "</table>\n",
       "</div>"
      ],
      "text/plain": [
       "   Country  Year  GDP_Per_Capita  Internet_Users_Pct  Literacy_Pct  Gender\n",
       "0  Albania  2001     5949.343236            0.325798          99.5  Female\n",
       "1  Albania  2001     5949.343236            0.325798          99.4    Male\n",
       "2  Algeria  2002    10872.434079            1.591641          86.1  Female\n",
       "3  Algeria  2002    10872.434079            1.591641          94.1    Male\n",
       "4   Angola  2001     3924.316196            0.136014          63.2  Female"
      ]
     },
     "metadata": {},
     "output_type": "display_data"
    },
    {
     "data": {
      "text/html": [
       "<div>\n",
       "<style scoped>\n",
       "    .dataframe tbody tr th:only-of-type {\n",
       "        vertical-align: middle;\n",
       "    }\n",
       "\n",
       "    .dataframe tbody tr th {\n",
       "        vertical-align: top;\n",
       "    }\n",
       "\n",
       "    .dataframe thead th {\n",
       "        text-align: right;\n",
       "    }\n",
       "</style>\n",
       "<table border=\"1\" class=\"dataframe\">\n",
       "  <thead>\n",
       "    <tr style=\"text-align: right;\">\n",
       "      <th></th>\n",
       "      <th>Country</th>\n",
       "      <th>Year</th>\n",
       "      <th>GDP_Per_Capita</th>\n",
       "      <th>Internet_Users_Pct</th>\n",
       "      <th>Literacy_Pct</th>\n",
       "      <th>Gender</th>\n",
       "    </tr>\n",
       "  </thead>\n",
       "  <tbody>\n",
       "    <tr>\n",
       "      <th>281</th>\n",
       "      <td>Zambia</td>\n",
       "      <td>1999</td>\n",
       "      <td>2102.074889</td>\n",
       "      <td>0.147053</td>\n",
       "      <td>72.6</td>\n",
       "      <td>Male</td>\n",
       "    </tr>\n",
       "    <tr>\n",
       "      <th>282</th>\n",
       "      <td>Zambia</td>\n",
       "      <td>1990</td>\n",
       "      <td>2339.137959</td>\n",
       "      <td>0.000000</td>\n",
       "      <td>65.5</td>\n",
       "      <td>Female</td>\n",
       "    </tr>\n",
       "    <tr>\n",
       "      <th>283</th>\n",
       "      <td>Zambia</td>\n",
       "      <td>1990</td>\n",
       "      <td>2339.137959</td>\n",
       "      <td>0.000000</td>\n",
       "      <td>67.3</td>\n",
       "      <td>Male</td>\n",
       "    </tr>\n",
       "    <tr>\n",
       "      <th>284</th>\n",
       "      <td>Zimbabwe</td>\n",
       "      <td>2004</td>\n",
       "      <td>2104.143512</td>\n",
       "      <td>6.564045</td>\n",
       "      <td>97.9</td>\n",
       "      <td>Female</td>\n",
       "    </tr>\n",
       "    <tr>\n",
       "      <th>285</th>\n",
       "      <td>Zimbabwe</td>\n",
       "      <td>2004</td>\n",
       "      <td>2104.143512</td>\n",
       "      <td>6.564045</td>\n",
       "      <td>97.5</td>\n",
       "      <td>Male</td>\n",
       "    </tr>\n",
       "  </tbody>\n",
       "</table>\n",
       "</div>"
      ],
      "text/plain": [
       "      Country  Year  GDP_Per_Capita  Internet_Users_Pct  Literacy_Pct  Gender\n",
       "281    Zambia  1999     2102.074889            0.147053          72.6    Male\n",
       "282    Zambia  1990     2339.137959            0.000000          65.5  Female\n",
       "283    Zambia  1990     2339.137959            0.000000          67.3    Male\n",
       "284  Zimbabwe  2004     2104.143512            6.564045          97.9  Female\n",
       "285  Zimbabwe  2004     2104.143512            6.564045          97.5    Male"
      ]
     },
     "metadata": {},
     "output_type": "display_data"
    }
   ],
   "source": [
    "gdp_internet_literacy_df = gdp_and_internet_use.merge(literacy_df, on=['Country', 'Year'])\n",
    "\n",
    "# Peek\n",
    "display(gdp_internet_literacy_df.head())\n",
    "display(gdp_internet_literacy_df.tail())"
   ]
  },
  {
   "cell_type": "markdown",
   "metadata": {},
   "source": [
    "Unfortunately, our number of records has dropped significantly due to the fact that there are a lot of non-matching data. But it is better to look at only the clean data"
   ]
  },
  {
   "cell_type": "code",
   "execution_count": 43,
   "metadata": {},
   "outputs": [
    {
     "data": {
      "text/plain": [
       "(3519, 4)"
      ]
     },
     "execution_count": 43,
     "metadata": {},
     "output_type": "execute_result"
    }
   ],
   "source": [
    "gdp_and_internet_use.shape"
   ]
  },
  {
   "cell_type": "code",
   "execution_count": 44,
   "metadata": {},
   "outputs": [
    {
     "data": {
      "text/plain": [
       "(430, 4)"
      ]
     },
     "execution_count": 44,
     "metadata": {},
     "output_type": "execute_result"
    }
   ],
   "source": [
    "literacy_df.shape"
   ]
  },
  {
   "cell_type": "code",
   "execution_count": 45,
   "metadata": {},
   "outputs": [
    {
     "data": {
      "text/plain": [
       "(286, 6)"
      ]
     },
     "execution_count": 45,
     "metadata": {},
     "output_type": "execute_result"
    }
   ],
   "source": [
    "gdp_internet_literacy_df.shape"
   ]
  },
  {
   "cell_type": "markdown",
   "metadata": {},
   "source": [
    "### `Internet_Users_Pct` vs `Literacy_Pct` "
   ]
  },
  {
   "cell_type": "markdown",
   "metadata": {},
   "source": [
    "Does better access to internet increase literacy rate?"
   ]
  },
  {
   "cell_type": "code",
   "execution_count": 46,
   "metadata": {},
   "outputs": [
    {
     "data": {
      "image/png": "[encoded data removed]",
      "text/plain": [
       "<Figure size 720x360 with 1 Axes>"
      ]
     },
     "metadata": {},
     "output_type": "display_data"
    }
   ],
   "source": [
    "# Scatterplot\n",
    "plt.figure(figsize=(10,5))\n",
    "sns.scatterplot(data=gdp_internet_literacy_df, x='Internet_Users_Pct', y='Literacy_Pct', hue='Year', s=250, alpha=0.7)\n",
    "\n",
    "plt.xlabel('Internet Users Percentage')\n",
    "plt.ylabel('Literacy Percentage')\n",
    "plt.title('Internet Users Percentage vs Literacy Percentage');"
   ]
  },
  {
   "cell_type": "markdown",
   "metadata": {},
   "source": [
    "### Pearson's Correlation Coefficient: `Internet_Users_Pct` vs `Literacy_Pct` "
   ]
  },
  {
   "cell_type": "code",
   "execution_count": 47,
   "metadata": {},
   "outputs": [
    {
     "data": {
      "text/html": [
       "<div>\n",
       "<style scoped>\n",
       "    .dataframe tbody tr th:only-of-type {\n",
       "        vertical-align: middle;\n",
       "    }\n",
       "\n",
       "    .dataframe tbody tr th {\n",
       "        vertical-align: top;\n",
       "    }\n",
       "\n",
       "    .dataframe thead th {\n",
       "        text-align: right;\n",
       "    }\n",
       "</style>\n",
       "<table border=\"1\" class=\"dataframe\">\n",
       "  <thead>\n",
       "    <tr style=\"text-align: right;\">\n",
       "      <th></th>\n",
       "      <th>Internet_Users_Pct</th>\n",
       "    </tr>\n",
       "  </thead>\n",
       "  <tbody>\n",
       "    <tr>\n",
       "      <th>Literacy_Pct</th>\n",
       "      <td>0.337976</td>\n",
       "    </tr>\n",
       "  </tbody>\n",
       "</table>\n",
       "</div>"
      ],
      "text/plain": [
       "              Internet_Users_Pct\n",
       "Literacy_Pct            0.337976"
      ]
     },
     "execution_count": 47,
     "metadata": {},
     "output_type": "execute_result"
    }
   ],
   "source": [
    "gdp_internet_literacy_df.corr()[['Internet_Users_Pct']].loc[['Literacy_Pct']]"
   ]
  },
  {
   "cell_type": "markdown",
   "metadata": {},
   "source": [
    "### `Literacy_Pct` vs `GDP_Per_Capita`"
   ]
  },
  {
   "cell_type": "markdown",
   "metadata": {},
   "source": [
    "Does better literacy increase GDP per Capita?"
   ]
  },
  {
   "cell_type": "code",
   "execution_count": 48,
   "metadata": {},
   "outputs": [
    {
     "data": {
      "image/png": "[encoded data removed]",
      "text/plain": [
       "<Figure size 720x360 with 1 Axes>"
      ]
     },
     "metadata": {},
     "output_type": "display_data"
    }
   ],
   "source": [
    "# Scatterplot\n",
    "plt.figure(figsize=(10,5))\n",
    "sns.scatterplot(data=gdp_internet_literacy_df, x='Literacy_Pct', y='GDP_Per_Capita', hue='Year', s=250, alpha=0.7)\n",
    "\n",
    "plt.xlabel('Internet Users Percentage')\n",
    "plt.ylabel('Literacy Percentage')\n",
    "plt.title('Internet Users Percentage vs Literacy Percentage');"
   ]
  },
  {
   "cell_type": "markdown",
   "metadata": {},
   "source": [
    "### Pearson's Correlation Coefficient: `Literacy_Pct` vs `GDP_Per_Capita` "
   ]
  },
  {
   "cell_type": "code",
   "execution_count": 49,
   "metadata": {},
   "outputs": [
    {
     "data": {
      "text/html": [
       "<div>\n",
       "<style scoped>\n",
       "    .dataframe tbody tr th:only-of-type {\n",
       "        vertical-align: middle;\n",
       "    }\n",
       "\n",
       "    .dataframe tbody tr th {\n",
       "        vertical-align: top;\n",
       "    }\n",
       "\n",
       "    .dataframe thead th {\n",
       "        text-align: right;\n",
       "    }\n",
       "</style>\n",
       "<table border=\"1\" class=\"dataframe\">\n",
       "  <thead>\n",
       "    <tr style=\"text-align: right;\">\n",
       "      <th></th>\n",
       "      <th>Literacy_Pct</th>\n",
       "    </tr>\n",
       "  </thead>\n",
       "  <tbody>\n",
       "    <tr>\n",
       "      <th>GDP_Per_Capita</th>\n",
       "      <td>0.338838</td>\n",
       "    </tr>\n",
       "  </tbody>\n",
       "</table>\n",
       "</div>"
      ],
      "text/plain": [
       "                Literacy_Pct\n",
       "GDP_Per_Capita      0.338838"
      ]
     },
     "execution_count": 49,
     "metadata": {},
     "output_type": "execute_result"
    }
   ],
   "source": [
    "gdp_internet_literacy_df.corr()[['Literacy_Pct']].loc[['GDP_Per_Capita']]"
   ]
  }
 ],
 "metadata": {
  "kernelspec": {
   "display_name": "Python 3",
   "language": "python",
   "name": "python3"
  },
  "language_info": {
   "codemirror_mode": {
    "name": "ipython",
    "version": 3
   },
   "file_extension": ".py",
   "mimetype": "text/x-python",
   "name": "python",
   "nbconvert_exporter": "python",
   "pygments_lexer": "ipython3",
   "version": "3.8.5"
  },
  "toc": {
   "base_numbering": 1,
   "nav_menu": {},
   "number_sections": true,
   "sideBar": true,
   "skip_h1_title": true,
   "title_cell": "Table of Contents",
   "title_sidebar": "Contents",
   "toc_cell": true,
   "toc_position": {},
   "toc_section_display": true,
   "toc_window_display": true
  }
 },
 "nbformat": 4,
 "nbformat_minor": 4
}
