{
 "cells": [
  {
   "cell_type": "markdown",
   "metadata": {
    "toc": true
   },
   "source": [
    "<h1>Table of Contents<span class=\"tocSkip\"></span></h1>\n",
    "<div class=\"toc\"><ul class=\"toc-item\"><li><span><a href=\"#Read-and-cleanup-dataset\" data-toc-modified-id=\"Read-and-cleanup-dataset-1\"><span class=\"toc-item-num\">1&nbsp;&nbsp;</span>Read and cleanup dataset</a></span></li><li><span><a href=\"#Check-Data-in-General-and-Formats\" data-toc-modified-id=\"Check-Data-in-General-and-Formats-2\"><span class=\"toc-item-num\">2&nbsp;&nbsp;</span>Check Data in General and Formats</a></span></li><li><span><a href=\"#Check-Some-Data-Summaries\" data-toc-modified-id=\"Check-Some-Data-Summaries-3\"><span class=\"toc-item-num\">3&nbsp;&nbsp;</span>Check Some Data Summaries</a></span><ul class=\"toc-item\"><li><span><a href=\"#Country\" data-toc-modified-id=\"Country-3.1\"><span class=\"toc-item-num\">3.1&nbsp;&nbsp;</span><code>Country</code></a></span><ul class=\"toc-item\"><li><span><a href=\"#How-many-countries-are-represented-in-this-dataset?\" data-toc-modified-id=\"How-many-countries-are-represented-in-this-dataset?-3.1.1\"><span class=\"toc-item-num\">3.1.1&nbsp;&nbsp;</span>How many countries are represented in this dataset?</a></span></li><li><span><a href=\"#How-are-the-countries-represented/distributed-in-this-dataset?\" data-toc-modified-id=\"How-are-the-countries-represented/distributed-in-this-dataset?-3.1.2\"><span class=\"toc-item-num\">3.1.2&nbsp;&nbsp;</span>How are the countries represented/distributed in this dataset?</a></span></li><li><span><a href=\"#How-many-years-are-represented-in-this-dataset?\" data-toc-modified-id=\"How-many-years-are-represented-in-this-dataset?-3.1.3\"><span class=\"toc-item-num\">3.1.3&nbsp;&nbsp;</span>How many years are represented in this dataset?</a></span></li></ul></li><li><span><a href=\"#Year\" data-toc-modified-id=\"Year-3.2\"><span class=\"toc-item-num\">3.2&nbsp;&nbsp;</span><code>Year</code></a></span><ul class=\"toc-item\"><li><span><a href=\"#How-are-the-years-represented/distributed-in-this-dataset?\" data-toc-modified-id=\"How-are-the-years-represented/distributed-in-this-dataset?-3.2.1\"><span class=\"toc-item-num\">3.2.1&nbsp;&nbsp;</span>How are the years represented/distributed in this dataset?</a></span></li></ul></li><li><span><a href=\"#Sex\" data-toc-modified-id=\"Sex-3.3\"><span class=\"toc-item-num\">3.3&nbsp;&nbsp;</span><code>Sex</code></a></span><ul class=\"toc-item\"><li><span><a href=\"#How-are-Male-and-Female-distributed?\" data-toc-modified-id=\"How-are-Male-and-Female-distributed?-3.3.1\"><span class=\"toc-item-num\">3.3.1&nbsp;&nbsp;</span>How are Male and Female distributed?</a></span></li></ul></li></ul></li></ul></div>"
   ]
  },
  {
   "cell_type": "markdown",
   "metadata": {},
   "source": [
    "- Choose and download another data set from the UN data http://data.un.org/Explorer.aspx to merge with your data and explore.\n",
    "- Prepare a short (<5 minute) presentation of your findings.\n",
    "- Report any interesting correlations you find. \n",
    "- Include visualizations and consider adding interactivity with ipywidgets.\n",
    "- This presentation can be done either in a Jupyter Notebook or using another presentation software, such as PowerPoint. (Check out Jupyter Slides if you have time. This allows you to turn your jupyter notebook into a slideshow.)"
   ]
  },
  {
   "cell_type": "code",
   "execution_count": 1,
   "metadata": {},
   "outputs": [],
   "source": [
    "# Importing all required libraries\n",
    "import pandas as pd\n",
    "import numpy as np\n",
    "import matplotlib.pyplot as plt\n",
    "import seaborn as sns\n",
    "import scipy.stats as stats\n",
    "import statsmodels.api as sm"
   ]
  },
  {
   "cell_type": "code",
   "execution_count": 2,
   "metadata": {},
   "outputs": [],
   "source": [
    "# Jupyter magic so we don't have to call plt.show() every time\n",
    "%matplotlib inline\n",
    "\n",
    "# Have pandas to display up to 500 rows\n",
    "pd.set_option('display.max_columns', 500)\n",
    "\n",
    "# Set defaults theme for sns\n",
    "sns.set()"
   ]
  },
  {
   "cell_type": "markdown",
   "metadata": {},
   "source": [
    "## Read and cleanup dataset\n",
    "We are going to look at some education metrics per countries, specifically the level of literacy for young people (15-24 years olds)"
   ]
  },
  {
   "cell_type": "code",
   "execution_count": 3,
   "metadata": {},
   "outputs": [
    {
     "data": {
      "text/html": [
       "<div>\n",
       "<style scoped>\n",
       "    .dataframe tbody tr th:only-of-type {\n",
       "        vertical-align: middle;\n",
       "    }\n",
       "\n",
       "    .dataframe tbody tr th {\n",
       "        vertical-align: top;\n",
       "    }\n",
       "\n",
       "    .dataframe thead th {\n",
       "        text-align: right;\n",
       "    }\n",
       "</style>\n",
       "<table border=\"1\" class=\"dataframe\">\n",
       "  <thead>\n",
       "    <tr style=\"text-align: right;\">\n",
       "      <th></th>\n",
       "      <th>Country or Area</th>\n",
       "      <th>Subgroup</th>\n",
       "      <th>Year</th>\n",
       "      <th>Source</th>\n",
       "      <th>Unit</th>\n",
       "      <th>Value</th>\n",
       "      <th>Value Footnotes</th>\n",
       "    </tr>\n",
       "  </thead>\n",
       "  <tbody>\n",
       "    <tr>\n",
       "      <th>0</th>\n",
       "      <td>Afghanistan</td>\n",
       "      <td>Female 15-24 yr</td>\n",
       "      <td>2000.0</td>\n",
       "      <td>UNSD_MDGInfo CDROM_Oct2007 (National figure)</td>\n",
       "      <td>Percent</td>\n",
       "      <td>18.4</td>\n",
       "      <td>1.0</td>\n",
       "    </tr>\n",
       "    <tr>\n",
       "      <th>1</th>\n",
       "      <td>Afghanistan</td>\n",
       "      <td>Male 15-24 yr</td>\n",
       "      <td>2000.0</td>\n",
       "      <td>UNSD_MDGInfo CDROM_Oct2007 (National figure)</td>\n",
       "      <td>Percent</td>\n",
       "      <td>50.8</td>\n",
       "      <td>1.0</td>\n",
       "    </tr>\n",
       "    <tr>\n",
       "      <th>2</th>\n",
       "      <td>Albania</td>\n",
       "      <td>Female 15-24 yr</td>\n",
       "      <td>2001.0</td>\n",
       "      <td>UNSD_MDGInfo CDROM_Oct2007 (National figure)</td>\n",
       "      <td>Percent</td>\n",
       "      <td>99.5</td>\n",
       "      <td>2.0</td>\n",
       "    </tr>\n",
       "    <tr>\n",
       "      <th>3</th>\n",
       "      <td>Albania</td>\n",
       "      <td>Male 15-24 yr</td>\n",
       "      <td>2001.0</td>\n",
       "      <td>UNSD_MDGInfo CDROM_Oct2007 (National figure)</td>\n",
       "      <td>Percent</td>\n",
       "      <td>99.4</td>\n",
       "      <td>2.0</td>\n",
       "    </tr>\n",
       "    <tr>\n",
       "      <th>4</th>\n",
       "      <td>Algeria</td>\n",
       "      <td>Female 15-24 yr</td>\n",
       "      <td>2002.0</td>\n",
       "      <td>UNSD_MDGInfo CDROM_Oct2007 (National figure)</td>\n",
       "      <td>Percent</td>\n",
       "      <td>86.1</td>\n",
       "      <td>1.0</td>\n",
       "    </tr>\n",
       "  </tbody>\n",
       "</table>\n",
       "</div>"
      ],
      "text/plain": [
       "  Country or Area         Subgroup    Year  \\\n",
       "0     Afghanistan  Female 15-24 yr  2000.0   \n",
       "1     Afghanistan    Male 15-24 yr  2000.0   \n",
       "2         Albania  Female 15-24 yr  2001.0   \n",
       "3         Albania    Male 15-24 yr  2001.0   \n",
       "4         Algeria  Female 15-24 yr  2002.0   \n",
       "\n",
       "                                         Source     Unit  Value  \\\n",
       "0  UNSD_MDGInfo CDROM_Oct2007 (National figure)  Percent   18.4   \n",
       "1  UNSD_MDGInfo CDROM_Oct2007 (National figure)  Percent   50.8   \n",
       "2  UNSD_MDGInfo CDROM_Oct2007 (National figure)  Percent   99.5   \n",
       "3  UNSD_MDGInfo CDROM_Oct2007 (National figure)  Percent   99.4   \n",
       "4  UNSD_MDGInfo CDROM_Oct2007 (National figure)  Percent   86.1   \n",
       "\n",
       "   Value Footnotes  \n",
       "0              1.0  \n",
       "1              1.0  \n",
       "2              2.0  \n",
       "3              2.0  \n",
       "4              1.0  "
      ]
     },
     "metadata": {},
     "output_type": "display_data"
    },
    {
     "data": {
      "text/html": [
       "<div>\n",
       "<style scoped>\n",
       "    .dataframe tbody tr th:only-of-type {\n",
       "        vertical-align: middle;\n",
       "    }\n",
       "\n",
       "    .dataframe tbody tr th {\n",
       "        vertical-align: top;\n",
       "    }\n",
       "\n",
       "    .dataframe thead th {\n",
       "        text-align: right;\n",
       "    }\n",
       "</style>\n",
       "<table border=\"1\" class=\"dataframe\">\n",
       "  <thead>\n",
       "    <tr style=\"text-align: right;\">\n",
       "      <th></th>\n",
       "      <th>Country or Area</th>\n",
       "      <th>Subgroup</th>\n",
       "      <th>Year</th>\n",
       "      <th>Source</th>\n",
       "      <th>Unit</th>\n",
       "      <th>Value</th>\n",
       "      <th>Value Footnotes</th>\n",
       "    </tr>\n",
       "  </thead>\n",
       "  <tbody>\n",
       "    <tr>\n",
       "      <th>433</th>\n",
       "      <td>3</td>\n",
       "      <td>UNESCO Institute of Statistics estimates.</td>\n",
       "      <td>NaN</td>\n",
       "      <td>NaN</td>\n",
       "      <td>NaN</td>\n",
       "      <td>NaN</td>\n",
       "      <td>NaN</td>\n",
       "    </tr>\n",
       "    <tr>\n",
       "      <th>434</th>\n",
       "      <td>4</td>\n",
       "      <td>India: data exclude 3 sub-divisions.</td>\n",
       "      <td>NaN</td>\n",
       "      <td>NaN</td>\n",
       "      <td>NaN</td>\n",
       "      <td>NaN</td>\n",
       "      <td>NaN</td>\n",
       "    </tr>\n",
       "    <tr>\n",
       "      <th>435</th>\n",
       "      <td>5</td>\n",
       "      <td>Census. Serbia and Montenegro: data exclude Ko...</td>\n",
       "      <td>NaN</td>\n",
       "      <td>NaN</td>\n",
       "      <td>NaN</td>\n",
       "      <td>NaN</td>\n",
       "      <td>NaN</td>\n",
       "    </tr>\n",
       "    <tr>\n",
       "      <th>436</th>\n",
       "      <td>6</td>\n",
       "      <td>Sri Lanka: data represent 18 of 25 districts.</td>\n",
       "      <td>NaN</td>\n",
       "      <td>NaN</td>\n",
       "      <td>NaN</td>\n",
       "      <td>NaN</td>\n",
       "      <td>NaN</td>\n",
       "    </tr>\n",
       "    <tr>\n",
       "      <th>437</th>\n",
       "      <td>7</td>\n",
       "      <td>Sudan: Data are for North Sudan only.</td>\n",
       "      <td>NaN</td>\n",
       "      <td>NaN</td>\n",
       "      <td>NaN</td>\n",
       "      <td>NaN</td>\n",
       "      <td>NaN</td>\n",
       "    </tr>\n",
       "  </tbody>\n",
       "</table>\n",
       "</div>"
      ],
      "text/plain": [
       "    Country or Area                                           Subgroup  Year  \\\n",
       "433               3          UNESCO Institute of Statistics estimates.   NaN   \n",
       "434               4               India: data exclude 3 sub-divisions.   NaN   \n",
       "435               5  Census. Serbia and Montenegro: data exclude Ko...   NaN   \n",
       "436               6      Sri Lanka: data represent 18 of 25 districts.   NaN   \n",
       "437               7              Sudan: Data are for North Sudan only.   NaN   \n",
       "\n",
       "    Source Unit  Value  Value Footnotes  \n",
       "433    NaN  NaN    NaN              NaN  \n",
       "434    NaN  NaN    NaN              NaN  \n",
       "435    NaN  NaN    NaN              NaN  \n",
       "436    NaN  NaN    NaN              NaN  \n",
       "437    NaN  NaN    NaN              NaN  "
      ]
     },
     "metadata": {},
     "output_type": "display_data"
    }
   ],
   "source": [
    "# Pandas Dataframe\n",
    "literacy_df = pd.read_csv(\"../data/literacy_rate_15_24_year_olds.csv\")\n",
    "\n",
    "# Quick glance\n",
    "display(literacy_df.head())\n",
    "display(literacy_df.tail())"
   ]
  },
  {
   "cell_type": "markdown",
   "metadata": {},
   "source": [
    "It looks like we have some cleanups to do"
   ]
  },
  {
   "cell_type": "code",
   "execution_count": 4,
   "metadata": {},
   "outputs": [],
   "source": [
    "# Re-importing and skipping the last bad rows\n",
    "# literacy_df = literacy_df[:-8]\n",
    "literacy_df = pd.read_csv(\"../data/literacy_rate_15_24_year_olds.csv\", skipfooter=8, engine=\"python\")\n",
    "\n",
    "# Drop the Source, Unit, and Value Footnotes\n",
    "literacy_df = literacy_df.drop(['Source', 'Unit', 'Value Footnotes'], axis = 1)\n",
    "\n",
    "# Renaming the columns\n",
    "literacy_df.columns = [\"Country\", \"Subgroup\", \"Year\", \"Literacy_Pct\"]\n",
    "\n",
    "# Splitting Subgroup\n",
    "literacy_df[['Sex','Year_Group', 'Yr']] = literacy_df.Subgroup.str.split(expand=True) \n",
    "\n",
    "# Drop Yr and Subgroup\n",
    "literacy_df = literacy_df.drop(['Year_Group', 'Yr', 'Subgroup'], axis = 1)"
   ]
  },
  {
   "cell_type": "markdown",
   "metadata": {},
   "source": [
    "Let's see the end result"
   ]
  },
  {
   "cell_type": "code",
   "execution_count": 5,
   "metadata": {},
   "outputs": [
    {
     "data": {
      "text/html": [
       "<div>\n",
       "<style scoped>\n",
       "    .dataframe tbody tr th:only-of-type {\n",
       "        vertical-align: middle;\n",
       "    }\n",
       "\n",
       "    .dataframe tbody tr th {\n",
       "        vertical-align: top;\n",
       "    }\n",
       "\n",
       "    .dataframe thead th {\n",
       "        text-align: right;\n",
       "    }\n",
       "</style>\n",
       "<table border=\"1\" class=\"dataframe\">\n",
       "  <thead>\n",
       "    <tr style=\"text-align: right;\">\n",
       "      <th></th>\n",
       "      <th>Country</th>\n",
       "      <th>Year</th>\n",
       "      <th>Literacy_Pct</th>\n",
       "      <th>Sex</th>\n",
       "    </tr>\n",
       "  </thead>\n",
       "  <tbody>\n",
       "    <tr>\n",
       "      <th>0</th>\n",
       "      <td>Afghanistan</td>\n",
       "      <td>2000</td>\n",
       "      <td>18.4</td>\n",
       "      <td>Female</td>\n",
       "    </tr>\n",
       "    <tr>\n",
       "      <th>1</th>\n",
       "      <td>Afghanistan</td>\n",
       "      <td>2000</td>\n",
       "      <td>50.8</td>\n",
       "      <td>Male</td>\n",
       "    </tr>\n",
       "    <tr>\n",
       "      <th>2</th>\n",
       "      <td>Albania</td>\n",
       "      <td>2001</td>\n",
       "      <td>99.5</td>\n",
       "      <td>Female</td>\n",
       "    </tr>\n",
       "    <tr>\n",
       "      <th>3</th>\n",
       "      <td>Albania</td>\n",
       "      <td>2001</td>\n",
       "      <td>99.4</td>\n",
       "      <td>Male</td>\n",
       "    </tr>\n",
       "    <tr>\n",
       "      <th>4</th>\n",
       "      <td>Algeria</td>\n",
       "      <td>2002</td>\n",
       "      <td>86.1</td>\n",
       "      <td>Female</td>\n",
       "    </tr>\n",
       "  </tbody>\n",
       "</table>\n",
       "</div>"
      ],
      "text/plain": [
       "       Country  Year  Literacy_Pct     Sex\n",
       "0  Afghanistan  2000          18.4  Female\n",
       "1  Afghanistan  2000          50.8    Male\n",
       "2      Albania  2001          99.5  Female\n",
       "3      Albania  2001          99.4    Male\n",
       "4      Algeria  2002          86.1  Female"
      ]
     },
     "metadata": {},
     "output_type": "display_data"
    },
    {
     "data": {
      "text/html": [
       "<div>\n",
       "<style scoped>\n",
       "    .dataframe tbody tr th:only-of-type {\n",
       "        vertical-align: middle;\n",
       "    }\n",
       "\n",
       "    .dataframe tbody tr th {\n",
       "        vertical-align: top;\n",
       "    }\n",
       "\n",
       "    .dataframe thead th {\n",
       "        text-align: right;\n",
       "    }\n",
       "</style>\n",
       "<table border=\"1\" class=\"dataframe\">\n",
       "  <thead>\n",
       "    <tr style=\"text-align: right;\">\n",
       "      <th></th>\n",
       "      <th>Country</th>\n",
       "      <th>Year</th>\n",
       "      <th>Literacy_Pct</th>\n",
       "      <th>Sex</th>\n",
       "    </tr>\n",
       "  </thead>\n",
       "  <tbody>\n",
       "    <tr>\n",
       "      <th>425</th>\n",
       "      <td>Zambia</td>\n",
       "      <td>1990</td>\n",
       "      <td>67.3</td>\n",
       "      <td>Male</td>\n",
       "    </tr>\n",
       "    <tr>\n",
       "      <th>426</th>\n",
       "      <td>Zimbabwe</td>\n",
       "      <td>2004</td>\n",
       "      <td>97.9</td>\n",
       "      <td>Female</td>\n",
       "    </tr>\n",
       "    <tr>\n",
       "      <th>427</th>\n",
       "      <td>Zimbabwe</td>\n",
       "      <td>1992</td>\n",
       "      <td>94.4</td>\n",
       "      <td>Female</td>\n",
       "    </tr>\n",
       "    <tr>\n",
       "      <th>428</th>\n",
       "      <td>Zimbabwe</td>\n",
       "      <td>2004</td>\n",
       "      <td>97.5</td>\n",
       "      <td>Male</td>\n",
       "    </tr>\n",
       "    <tr>\n",
       "      <th>429</th>\n",
       "      <td>Zimbabwe</td>\n",
       "      <td>1992</td>\n",
       "      <td>96.5</td>\n",
       "      <td>Male</td>\n",
       "    </tr>\n",
       "  </tbody>\n",
       "</table>\n",
       "</div>"
      ],
      "text/plain": [
       "      Country  Year  Literacy_Pct     Sex\n",
       "425    Zambia  1990          67.3    Male\n",
       "426  Zimbabwe  2004          97.9  Female\n",
       "427  Zimbabwe  1992          94.4  Female\n",
       "428  Zimbabwe  2004          97.5    Male\n",
       "429  Zimbabwe  1992          96.5    Male"
      ]
     },
     "metadata": {},
     "output_type": "display_data"
    }
   ],
   "source": [
    "display(literacy_df.head())\n",
    "display(literacy_df.tail())"
   ]
  },
  {
   "cell_type": "markdown",
   "metadata": {},
   "source": [
    "## Check Data in General and Formats"
   ]
  },
  {
   "cell_type": "code",
   "execution_count": 6,
   "metadata": {},
   "outputs": [
    {
     "name": "stdout",
     "output_type": "stream",
     "text": [
      "<class 'pandas.core.frame.DataFrame'>\n",
      "RangeIndex: 430 entries, 0 to 429\n",
      "Data columns (total 4 columns):\n",
      " #   Column        Non-Null Count  Dtype  \n",
      "---  ------        --------------  -----  \n",
      " 0   Country       430 non-null    object \n",
      " 1   Year          430 non-null    int64  \n",
      " 2   Literacy_Pct  430 non-null    float64\n",
      " 3   Sex           430 non-null    object \n",
      "dtypes: float64(1), int64(1), object(2)\n",
      "memory usage: 13.6+ KB\n"
     ]
    }
   ],
   "source": [
    "literacy_df.info()"
   ]
  },
  {
   "cell_type": "markdown",
   "metadata": {},
   "source": [
    "- It looks like all of our column types are formatted correctly\n",
    "- We do not have any null values to address\n",
    "- We have 430 rows x 4 columns"
   ]
  },
  {
   "cell_type": "markdown",
   "metadata": {},
   "source": [
    "## Check Some Data Summaries"
   ]
  },
  {
   "cell_type": "markdown",
   "metadata": {},
   "source": [
    "### `Country`"
   ]
  },
  {
   "cell_type": "markdown",
   "metadata": {},
   "source": [
    "#### How many countries are represented in this dataset?"
   ]
  },
  {
   "cell_type": "code",
   "execution_count": 7,
   "metadata": {},
   "outputs": [
    {
     "data": {
      "text/plain": [
       "135"
      ]
     },
     "execution_count": 7,
     "metadata": {},
     "output_type": "execute_result"
    }
   ],
   "source": [
    "len(set(literacy_df.Country))"
   ]
  },
  {
   "cell_type": "markdown",
   "metadata": {},
   "source": [
    "#### How are the countries represented/distributed in this dataset?"
   ]
  },
  {
   "cell_type": "code",
   "execution_count": 8,
   "metadata": {},
   "outputs": [
    {
     "data": {
      "text/plain": [
       "Mexico              10\n",
       "Burkina Faso         8\n",
       "Colombia             8\n",
       "Iran                 6\n",
       "Maldives             6\n",
       "                    ..\n",
       "Guinea               2\n",
       "Rwanda               2\n",
       "Tajikistan           2\n",
       "Papua New Guinea     2\n",
       "Suriname             2\n",
       "Name: Country, Length: 135, dtype: int64"
      ]
     },
     "execution_count": 8,
     "metadata": {},
     "output_type": "execute_result"
    }
   ],
   "source": [
    "literacy_df.Country.value_counts().sort_values(ascending=False)"
   ]
  },
  {
   "cell_type": "markdown",
   "metadata": {},
   "source": [
    "We can see that the countries are not evenly represented in this dataset"
   ]
  },
  {
   "cell_type": "markdown",
   "metadata": {},
   "source": [
    "### `Year`"
   ]
  },
  {
   "cell_type": "markdown",
   "metadata": {},
   "source": [
    "#### How many years are represented in this dataset?"
   ]
  },
  {
   "cell_type": "code",
   "execution_count": 9,
   "metadata": {
    "scrolled": true
   },
   "outputs": [
    {
     "data": {
      "text/plain": [
       "16"
      ]
     },
     "execution_count": 9,
     "metadata": {},
     "output_type": "execute_result"
    }
   ],
   "source": [
    "len(set(literacy_df.Year))"
   ]
  },
  {
   "cell_type": "markdown",
   "metadata": {},
   "source": [
    "#### How are the years represented/distributed in this dataset?"
   ]
  },
  {
   "cell_type": "code",
   "execution_count": 10,
   "metadata": {},
   "outputs": [
    {
     "data": {
      "text/plain": [
       "1990    30\n",
       "1991    42\n",
       "1992    20\n",
       "1993     6\n",
       "1994    24\n",
       "1995    10\n",
       "1996    16\n",
       "1997     6\n",
       "1998     8\n",
       "1999    12\n",
       "2000    70\n",
       "2001    54\n",
       "2002    32\n",
       "2003    10\n",
       "2004    70\n",
       "2005    20\n",
       "Name: Year, dtype: int64"
      ]
     },
     "execution_count": 10,
     "metadata": {},
     "output_type": "execute_result"
    }
   ],
   "source": [
    "literacy_df.Year.value_counts().sort_index()"
   ]
  },
  {
   "cell_type": "code",
   "execution_count": 11,
   "metadata": {},
   "outputs": [
    {
     "data": {
      "image/png": "[encoded data removed]",
      "text/plain": [
       "<Figure size 432x288 with 1 Axes>"
      ]
     },
     "metadata": {},
     "output_type": "display_data"
    }
   ],
   "source": [
    "chart = sns.countplot(literacy_df.Year, order = literacy_df.Year.value_counts().index)\n",
    "\n",
    "chart.set_xticklabels(chart.get_xticklabels(), rotation=45)\n",
    "plt.title(\"Count of Each Year Represented in Dataset\")\n",
    "plt.ylabel(\"Count of Year\")\n",
    "plt.xlabel(\"Year\");"
   ]
  },
  {
   "cell_type": "markdown",
   "metadata": {},
   "source": [
    "This shows us that the data are not evenly distributed across the years. Some years are more represented than others. It appears that the most represented years in this dataset are 2000, 2001, and 2004."
   ]
  },
  {
   "cell_type": "markdown",
   "metadata": {},
   "source": [
    "### `Sex`"
   ]
  },
  {
   "cell_type": "markdown",
   "metadata": {},
   "source": [
    "#### How are Male and Female distributed?\n",
    "Is there any over-representation or under-representation of one sex vs the other?"
   ]
  },
  {
   "cell_type": "code",
   "execution_count": 12,
   "metadata": {},
   "outputs": [
    {
     "data": {
      "text/html": [
       "<div>\n",
       "<style scoped>\n",
       "    .dataframe tbody tr th:only-of-type {\n",
       "        vertical-align: middle;\n",
       "    }\n",
       "\n",
       "    .dataframe tbody tr th {\n",
       "        vertical-align: top;\n",
       "    }\n",
       "\n",
       "    .dataframe thead th {\n",
       "        text-align: right;\n",
       "    }\n",
       "</style>\n",
       "<table border=\"1\" class=\"dataframe\">\n",
       "  <thead>\n",
       "    <tr style=\"text-align: right;\">\n",
       "      <th></th>\n",
       "      <th>Country</th>\n",
       "      <th>Year</th>\n",
       "      <th>Literacy_Pct</th>\n",
       "    </tr>\n",
       "    <tr>\n",
       "      <th>Sex</th>\n",
       "      <th></th>\n",
       "      <th></th>\n",
       "      <th></th>\n",
       "    </tr>\n",
       "  </thead>\n",
       "  <tbody>\n",
       "    <tr>\n",
       "      <th>Female</th>\n",
       "      <td>215</td>\n",
       "      <td>215</td>\n",
       "      <td>215</td>\n",
       "    </tr>\n",
       "    <tr>\n",
       "      <th>Male</th>\n",
       "      <td>215</td>\n",
       "      <td>215</td>\n",
       "      <td>215</td>\n",
       "    </tr>\n",
       "  </tbody>\n",
       "</table>\n",
       "</div>"
      ],
      "text/plain": [
       "        Country  Year  Literacy_Pct\n",
       "Sex                                \n",
       "Female      215   215           215\n",
       "Male        215   215           215"
      ]
     },
     "execution_count": 12,
     "metadata": {},
     "output_type": "execute_result"
    }
   ],
   "source": [
    "literacy_df.groupby('Sex').count()"
   ]
  },
  {
   "cell_type": "code",
   "execution_count": 13,
   "metadata": {},
   "outputs": [
    {
     "data": {
      "text/plain": [
       "Text(0, 0.5, 'Count')"
      ]
     },
     "execution_count": 13,
     "metadata": {},
     "output_type": "execute_result"
    },
    {
     "data": {
      "image/png": "[encoded data removed]",
      "text/plain": [
       "<Figure size 432x288 with 1 Axes>"
      ]
     },
     "metadata": {},
     "output_type": "display_data"
    }
   ],
   "source": [
    "literacy_df.groupby('Sex').count().plot(kind='bar', rot=0)\n",
    "\n",
    "plt.title('Distribution of data by Sex')\n",
    "plt.xlabel('Sex')\n",
    "plt.ylabel('Count')"
   ]
  },
  {
   "cell_type": "markdown",
   "metadata": {},
   "source": [
    "It appears that male and female are evenly distributed throughout the dataset"
   ]
  },
  {
   "cell_type": "code",
   "execution_count": null,
   "metadata": {},
   "outputs": [],
   "source": []
  }
 ],
 "metadata": {
  "kernelspec": {
   "display_name": "Python 3",
   "language": "python",
   "name": "python3"
  },
  "language_info": {
   "codemirror_mode": {
    "name": "ipython",
    "version": 3
   },
   "file_extension": ".py",
   "mimetype": "text/x-python",
   "name": "python",
   "nbconvert_exporter": "python",
   "pygments_lexer": "ipython3",
   "version": "3.8.5"
  },
  "toc": {
   "base_numbering": 1,
   "nav_menu": {},
   "number_sections": true,
   "sideBar": true,
   "skip_h1_title": true,
   "title_cell": "Table of Contents",
   "title_sidebar": "Contents",
   "toc_cell": true,
   "toc_position": {},
   "toc_section_display": true,
   "toc_window_display": true
  }
 },
 "nbformat": 4,
 "nbformat_minor": 4
}
